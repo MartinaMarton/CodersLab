{
 "cells": [
  {
   "cell_type": "markdown",
   "id": "5f1453e00ba07110",
   "metadata": {},
   "source": [
    "### Závěrečný projekt - modul Python"
   ]
  },
  {
   "cell_type": "markdown",
   "id": "80f51208356c3824",
   "metadata": {},
   "source": [
    "V tomto projektu budete analyzovat data ze stránky `www.sreality.cz`. Budete tedy získávat aktuální nabídku bytů ve Zlíně.\n",
    "Projekt se dělí na 2 části:\n",
    "1. WebScraping - pomocí knihovny `BeautifulSoup` získejte všechny aktuální inzerce bytů v daném městě. \n",
    "- Získáte **tyto** informace: `URL odkaz bytu, rozměry bytu, dispozice bytu, cena bytu, lokace bytu (Ulice+město)`\n",
    "2. Datová analýza - ETL proces\n",
    "- V první fázi prověďte processing dat tak, aby obsahovala příslušné datové typy, nenulové hodnoty atp. Ulice i město bude v samostatných sloupcích.\n",
    "- Zprocesovaná a vyčištěná data vyexportujte do `.csv` souboru s názvem `{vašeJméno}_zdrojová_data.csv`\n",
    "3. Datová analýza - analýza dat\n",
    "- Třetí část začněte tak, že si do dataframe nahrajete vámi vyexportovaný `.csv` soubor s vyscrapovanými daty.\n",
    "- Ve druhé fázi proveďte analýzu dat a odpovězte na tyto dotazy:\n",
    "- `Jaká je průměrná cena bytů?`\n",
    "- `Jaká je průměrná cena bytů pro každou dispozice (1+1, 2+1, atp.)? Zobrazte i na grafu.`\n",
    "- `Jaká je průměrná velikost bytu pro každou dispozice?`\n",
    "- `Existuje ulice, kde je vyšší koncentrace dražších bytů?`\n",
    "- `Jaký typ dispozice je v daném městě nejčastěji inzerovan? Který to je? Proč myslíte, že tomu tak je?`\n",
    "- `Existují zde inzerce bytů, které stojí více, než 20.000,-? Pokud ano, jsou v této cenové hladině inzerovány i maximálně dvoupokojové byty (2+1/2+kk)?`\n",
    "- `Zjištěte minimální a maximální inzerce pro každou dispozici bytu. Která dispozice má největší rozptyl mezi minimální a maximální inzerovanou cenou?`\n",
    "\n",
    "\n",
    "Dotazy zodpovězte ve vašem pracovním notebooku a výsledný soubor nahrajte na GitHub.\n"
   ]
  },
  {
   "cell_type": "markdown",
   "id": "59dc9d3b2384bd4e",
   "metadata": {},
   "source": [
    "### WebScraping"
   ]
  },
  {
   "cell_type": "code",
   "execution_count": 75,
   "id": "initial_id",
   "metadata": {
    "collapsed": true
   },
   "outputs": [
    {
     "name": "stdout",
     "output_type": "stream",
     "text": [
      "Tlačítko 'Další stránka' nenalezeno - končím.\n",
      "[{'Odkaz': 'https://www.sreality.cz//detail/pronajem/byt/1+kk/zlin-zlin-vetrna/2431017548', 'Rozměry bytu': '26m²', 'Dispozice bytu': '1+kk', 'Cena bytu': '8900Kč/měsíc', 'Město': 'Zlín', 'Ulice': 'Větrná'}, {'Odkaz': 'https://www.sreality.cz//detail/pronajem/byt/1+kk/zlin-zlin-j-a-bati/2892255820', 'Rozměry bytu': '31m²', 'Dispozice bytu': '1+kk', 'Cena bytu': 'Cena na vyžádání', 'Město': 'Zlín', 'Ulice': 'J. A. Bati'}, {'Odkaz': 'https://www.sreality.cz//detail/pronajem/byt/1+kk/zlin-zlin-zelinova/602452812', 'Rozměry bytu': '37m²', 'Dispozice bytu': '1+kk', 'Cena bytu': '11500Kč/měsíc', 'Město': 'Zlín', 'Ulice': 'Zelinova'}, {'Odkaz': 'https://www.sreality.cz//detail/pronajem/byt/1+kk/slavicin-slavicin-osvobozeni/2048213580', 'Rozměry bytu': '44m²', 'Dispozice bytu': '1+kk', 'Cena bytu': '11000Kč/měsíc', 'Město': 'Slavičín', 'Ulice': 'Osvobození'}, {'Odkaz': 'https://www.sreality.cz//detail/pronajem/byt/1+kk/zlin-zlin-podlesi-ii/1535353676', 'Rozměry bytu': '30m²', 'Dispozice bytu': '1+kk', 'Cena bytu': '10000Kč/měsíc', 'Město': 'Zlín', 'Ulice': 'Podlesí II'}, {'Odkaz': 'https://www.sreality.cz//detail/pronajem/byt/1+kk/zlin-zlin-pod-kriby/2290328396', 'Rozměry bytu': '38m²', 'Dispozice bytu': '1+kk', 'Cena bytu': '11000Kč/měsíc', 'Město': 'Zlín', 'Ulice': 'Pod Křiby'}, {'Odkaz': 'https://www.sreality.cz//detail/pronajem/byt/1+kk/luhacovice-luhacovice-leose-janacka/3640889932', 'Rozměry bytu': '30m²', 'Dispozice bytu': '1+kk', 'Cena bytu': '10000Kč/měsíc', 'Město': 'Luhačovice', 'Ulice': 'Leoše Janáčka'}, {'Odkaz': 'https://www.sreality.cz//detail/pronajem/byt/1+1/zlin-zlin-drevnicka/1731158604', 'Rozměry bytu': '38m²', 'Dispozice bytu': '1+1', 'Cena bytu': '9400Kč/měsíc', 'Město': 'Zlín', 'Ulice': 'Dřevnická'}, {'Odkaz': 'https://www.sreality.cz//detail/pronajem/byt/2+1/zlin-zlin-podlesi-iii/2323755852', 'Rozměry bytu': '44m²', 'Dispozice bytu': '2+1', 'Cena bytu': '15000Kč/měsíc', 'Město': 'Zlín', 'Ulice': 'Podlesí III'}, {'Odkaz': 'https://www.sreality.cz//detail/pronajem/byt/3+1/zlin-malenovice-/3547222604', 'Rozměry bytu': '65m²', 'Dispozice bytu': '3+1', 'Cena bytu': '18000Kč/měsíc', 'Město': 'Zlín - Malenovice', 'Ulice': ''}, {'Odkaz': 'https://www.sreality.cz//detail/pronajem/byt/3+1/zlin-prstne-k-svetle/3373249356', 'Rozměry bytu': '68m²', 'Dispozice bytu': '3+1', 'Cena bytu': '18000Kč/měsíc', 'Město': 'Zlín - Prštné', 'Ulice': 'K. Světlé'}, {'Odkaz': 'https://www.sreality.cz//detail/pronajem/byt/1+1/zlin-zlin-/1976804172', 'Rozměry bytu': '49m²', 'Dispozice bytu': '1+1', 'Cena bytu': '13500Kč/měsíc', 'Město': 'Zlín', 'Ulice': ''}, {'Odkaz': 'https://www.sreality.cz//detail/pronajem/byt/1+kk/zlin-zlin-/180593484', 'Rozměry bytu': '25m²', 'Dispozice bytu': '1+kk', 'Cena bytu': '8500Kč/měsíc', 'Město': 'Zlín', 'Ulice': ''}, {'Odkaz': 'https://www.sreality.cz//detail/pronajem/byt/2+kk/napajedla-napajedla-zerotinova/3131024204', 'Rozměry bytu': '43m²', 'Dispozice bytu': '2+kk', 'Cena bytu': '9000Kč/měsíc', 'Město': 'Napajedla', 'Ulice': 'Žerotínova'}, {'Odkaz': 'https://www.sreality.cz//detail/pronajem/byt/1+kk/zlin-zlin-pasecka/1258529612', 'Rozměry bytu': '30m²', 'Dispozice bytu': '1+kk', 'Cena bytu': '14900Kč/měsíc', 'Město': 'Zlín', 'Ulice': 'Pasecká'}, {'Odkaz': 'https://www.sreality.cz//detail/pronajem/byt/2+1/zlin-zlin-potoky/1478427212', 'Rozměry bytu': '56m²', 'Dispozice bytu': '2+1', 'Cena bytu': '12000Kč/měsíc', 'Město': 'Zlín', 'Ulice': 'Potoky'}, {'Odkaz': 'https://www.sreality.cz//detail/pronajem/byt/2+kk/slavicin-slavicin-osvobozeni/755213132', 'Rozměry bytu': '55m²', 'Dispozice bytu': '2+kk', 'Cena bytu': '13500Kč/měsíc', 'Město': 'Slavičín', 'Ulice': 'Osvobození'}, {'Odkaz': 'https://www.sreality.cz//detail/pronajem/byt/2+1/zlin-prstne-svat-cecha/202089292', 'Rozměry bytu': '70m²', 'Dispozice bytu': '2+1', 'Cena bytu': '9000Kč/měsíc', 'Město': 'Zlín - Prštné', 'Ulice': 'Svat. Čecha'}, {'Odkaz': 'https://www.sreality.cz//detail/pronajem/byt/1+kk/zlin-zlin-sevcovska/1049576012', 'Rozměry bytu': '30m²', 'Dispozice bytu': '1+kk', 'Cena bytu': '13000Kč/měsíc', 'Město': 'Zlín', 'Ulice': 'Ševcovská'}, {'Odkaz': 'https://www.sreality.cz//detail/pronajem/byt/3+1/petruvka-petruvka-/2012049996', 'Rozměry bytu': '70m²', 'Dispozice bytu': '3+1', 'Cena bytu': '10000Kč/měsíc', 'Město': 'Petrůvka', 'Ulice': ''}, {'Odkaz': 'https://www.sreality.cz//detail/pronajem/byt/2+1/zlin-zlin-podlesi-iv/1228387148', 'Rozměry bytu': '64m²', 'Dispozice bytu': '2+1', 'Cena bytu': '13000Kč/měsíc', 'Město': 'Zlín', 'Ulice': 'Podlesí IV'}, {'Odkaz': 'https://www.sreality.cz//detail/pronajem/byt/1+kk/zlin-prstne-svat-cecha/1133032268', 'Rozměry bytu': '25m²', 'Dispozice bytu': '1+kk', 'Cena bytu': '8400Kč/měsíc', 'Město': 'Zlín - Prštné', 'Ulice': 'Svat. Čecha'}, {'Odkaz': 'https://www.sreality.cz//detail/pronajem/byt/3+1/zlin-zlin-2-kvetna/4066616140', 'Rozměry bytu': '72m²', 'Dispozice bytu': '3+1', 'Cena bytu': '14500Kč/měsíc', 'Město': 'Zlín', 'Ulice': '2. května'}, {'Odkaz': 'https://www.sreality.cz//detail/pronajem/byt/2+1/zlin-zlin-benesovo-nabrezi/1408017228', 'Rozměry bytu': '57m²', 'Dispozice bytu': '2+1', 'Cena bytu': '8000Kč/měsíc', 'Město': 'Zlín', 'Ulice': 'Benešovo nábřeží'}, {'Odkaz': 'https://www.sreality.cz//detail/pronajem/byt/2+kk/zlin-zlin-vozenilkova/3128377932', 'Rozměry bytu': '53m²', 'Dispozice bytu': '2+kk', 'Cena bytu': '15000Kč/měsíc', 'Město': 'Zlín', 'Ulice': 'Voženílkova'}, {'Odkaz': 'https://www.sreality.cz//detail/pronajem/byt/1+kk/zlin-priluky-pancava/4211225164', 'Rozměry bytu': '22m²', 'Dispozice bytu': '1+kk', 'Cena bytu': '9500Kč/měsíc', 'Město': 'Zlín - Příluky', 'Ulice': 'Pančava'}, {'Odkaz': 'https://www.sreality.cz//detail/pronajem/byt/2+1/zlin-zlin-slunecna/884826700', 'Rozměry bytu': '60m²', 'Dispozice bytu': '2+1', 'Cena bytu': '11500Kč/měsíc', 'Město': 'Zlín', 'Ulice': 'Slunečná'}, {'Odkaz': 'https://www.sreality.cz//detail/pronajem/byt/3+kk/zlin-priluky-pancava/2810987084', 'Rozměry bytu': '46m²', 'Dispozice bytu': '3+kk', 'Cena bytu': '18000Kč/měsíc', 'Město': 'Zlín - Příluky', 'Ulice': 'Pančava'}, {'Odkaz': 'https://www.sreality.cz//detail/pronajem/byt/3+1/zlin-zlin-vysoka/1976083276', 'Rozměry bytu': '60m²', 'Dispozice bytu': '3+1', 'Cena bytu': '18600Kč/měsíc', 'Město': 'Zlín', 'Ulice': 'Vysoká'}, {'Odkaz': 'https://www.sreality.cz//detail/pronajem/byt/1+kk/zlin-zlin-druzstevni/3911410252', 'Rozměry bytu': '33m²', 'Dispozice bytu': '1+kk', 'Cena bytu': '9500Kč/měsíc', 'Město': 'Zlín', 'Ulice': 'Družstevní'}, {'Odkaz': 'https://www.sreality.cz//detail/pronajem/byt/1+kk/zlin-zlin-sevcovska/1882956620', 'Rozměry bytu': '30m²', 'Dispozice bytu': '1+kk', 'Cena bytu': '12900Kč/měsíc', 'Město': 'Zlín', 'Ulice': 'Ševcovská'}, {'Odkaz': 'https://www.sreality.cz//detail/pronajem/byt/1+kk/zlin-prstne-l-vachy/4180255564', 'Rozměry bytu': '32m²', 'Dispozice bytu': '1+kk', 'Cena bytu': '10900Kč/měsíc', 'Město': 'Zlín - Prštné', 'Ulice': 'L. Váchy'}, {'Odkaz': 'https://www.sreality.cz//detail/pronajem/byt/1+kk/zlin-zlin-nad-stranemi/2658030156', 'Rozměry bytu': '27m²', 'Dispozice bytu': '1+kk', 'Cena bytu': '8460Kč/měsíc', 'Město': 'Zlín', 'Ulice': 'Nad Stráněmi'}, {'Odkaz': 'https://www.sreality.cz//detail/pronajem/byt/2+1/zlin-zlin-na-honech-ii/2427994700', 'Rozměry bytu': '45m²', 'Dispozice bytu': '2+1', 'Cena bytu': '14000Kč/měsíc', 'Město': 'Zlín', 'Ulice': 'Na Honech II'}, {'Odkaz': 'https://www.sreality.cz//detail/pronajem/byt/2+kk/zlin-zlin-j-a-bati/1936499532', 'Rozměry bytu': '41m²', 'Dispozice bytu': '2+kk', 'Cena bytu': '13500Kč/měsíc', 'Město': 'Zlín', 'Ulice': 'J. A. Bati'}, {'Odkaz': 'https://www.sreality.cz//detail/pronajem/byt/4+kk/zlin-zlin-havlickovo-nabrezi/2023596876', 'Rozměry bytu': '113m²', 'Dispozice bytu': '4+kk', 'Cena bytu': '30000Kč/měsíc', 'Město': 'Zlín', 'Ulice': 'Havlíčkovo nábřeží'}, {'Odkaz': 'https://www.sreality.cz//detail/pronajem/byt/1+1/napajedla-napajedla-nabrezi/1684976460', 'Rozměry bytu': '33m²', 'Dispozice bytu': '1+1', 'Cena bytu': '8000Kč/měsíc', 'Město': 'Napajedla', 'Ulice': 'Nábřeží'}, {'Odkaz': 'https://www.sreality.cz//detail/pronajem/byt/2+1/zlin-kudlov-vaclavska/1154065228', 'Rozměry bytu': '57m²', 'Dispozice bytu': '2+1', 'Cena bytu': '12000Kč/měsíc', 'Město': 'Zlín - Kudlov', 'Ulice': 'Václavská'}, {'Odkaz': 'https://www.sreality.cz//detail/pronajem/byt/2+1/zlin-zlin-benesovo-nabrezi/700162892', 'Rozměry bytu': '65m²', 'Dispozice bytu': '2+1', 'Cena bytu': '11000Kč/měsíc', 'Město': 'Zlín', 'Ulice': 'Benešovo nábřeží'}, {'Odkaz': 'https://www.sreality.cz//detail/pronajem/byt/2+1/zlin-malenovice-chelcickeho/2169746252', 'Rozměry bytu': '58m²', 'Dispozice bytu': '2+1', 'Cena bytu': '13000Kč/měsíc', 'Město': 'Zlín - Malenovice', 'Ulice': 'Chelčického'}, {'Odkaz': 'https://www.sreality.cz//detail/pronajem/byt/2+kk/zlin-zlin-pod-kriby/3234702156', 'Rozměry bytu': '38m²', 'Dispozice bytu': '2+kk', 'Cena bytu': '15000Kč/měsíc', 'Město': 'Zlín', 'Ulice': 'Pod Křiby'}, {'Odkaz': 'https://www.sreality.cz//detail/pronajem/byt/2+1/zlin-mladcova-mokra-i/367895372', 'Rozměry bytu': '57m²', 'Dispozice bytu': '2+1', 'Cena bytu': '10000Kč/měsíc', 'Město': 'Zlín - Mladcová', 'Ulice': 'Mokrá I'}, {'Odkaz': 'https://www.sreality.cz//detail/pronajem/byt/1+kk/zlin-zlin-lorencova/1268953932', 'Rozměry bytu': '26m²', 'Dispozice bytu': '1+kk', 'Cena bytu': '10900Kč/měsíc', 'Město': 'Zlín', 'Ulice': 'Lorencova'}, {'Odkaz': 'https://www.sreality.cz//detail/pronajem/byt/2+kk/otrokovice-otrokovice-moravni/2939503180', 'Rozměry bytu': '56m²', 'Dispozice bytu': '2+kk', 'Cena bytu': '20990Kč/měsíc', 'Město': 'Otrokovice', 'Ulice': 'Moravní'}, {'Odkaz': 'https://www.sreality.cz//detail/pronajem/byt/1+kk/otrokovice-otrokovice-moravni/4281680460', 'Rozměry bytu': '32m²', 'Dispozice bytu': '1+kk', 'Cena bytu': '14000Kč/měsíc', 'Město': 'Otrokovice', 'Ulice': 'Moravní'}, {'Odkaz': 'https://www.sreality.cz//detail/pronajem/byt/2+1/frystak-frystak-namesti-miru/1362993996', 'Rozměry bytu': '72m²', 'Dispozice bytu': '2+1', 'Cena bytu': '12000Kč/měsíc', 'Město': 'Fryšták', 'Ulice': 'náměstí Míru'}, {'Odkaz': 'https://www.sreality.cz//detail/pronajem/byt/1+1/zlin-louky-zadni-luhy/3514671948', 'Rozměry bytu': '18m²', 'Dispozice bytu': '1+1', 'Cena bytu': '10000Kč/měsíc', 'Město': 'Zlín - Louky', 'Ulice': 'Zadní luhy'}, {'Odkaz': 'https://www.sreality.cz//detail/pronajem/byt/1+kk/zlin-zlin-stefanikova/795714380', 'Rozměry bytu': '22m²', 'Dispozice bytu': '1+kk', 'Cena bytu': '11900Kč/měsíc', 'Město': 'Zlín', 'Ulice': 'Štefánikova'}, {'Odkaz': 'https://www.sreality.cz//detail/pronajem/byt/2+1/zlin-zlin-bartosova/3059696204', 'Rozměry bytu': '80m²', 'Dispozice bytu': '2+1', 'Cena bytu': '15500Kč/měsíc', 'Město': 'Zlín', 'Ulice': 'Bartošova'}, {'Odkaz': 'https://www.sreality.cz//detail/pronajem/byt/2+1/zlin-zlin-sokolska/3348013900', 'Rozměry bytu': '53m²', 'Dispozice bytu': '2+1', 'Cena bytu': '15000Kč/měsíc', 'Město': 'Zlín', 'Ulice': 'Sokolská'}, {'Odkaz': 'https://www.sreality.cz//detail/pronajem/byt/1+kk/otrokovice-kvitkovice-spojovaci/3115230028', 'Rozměry bytu': '40m²', 'Dispozice bytu': '1+kk', 'Cena bytu': '12500Kč/měsíc', 'Město': 'Otrokovice - Kvítkovice', 'Ulice': 'Spojovací'}, {'Odkaz': 'https://www.sreality.cz//detail/pronajem/byt/3+1/zlin-zlin-na-honech-iii/2923340620', 'Rozměry bytu': '66m²', 'Dispozice bytu': '3+1', 'Cena bytu': '16500Kč/měsíc', 'Město': 'Zlín', 'Ulice': 'Na Honech III'}, {'Odkaz': 'https://www.sreality.cz//detail/pronajem/byt/1+kk/zlin-zlin-zelinova/544121676', 'Rozměry bytu': '37m²', 'Dispozice bytu': '1+kk', 'Cena bytu': '12500Kč/měsíc', 'Město': 'Zlín', 'Ulice': 'Zelinova'}, {'Odkaz': 'https://www.sreality.cz//detail/pronajem/byt/1+1/zlin-zlin-dily-iii/1013514076', 'Rozměry bytu': '36m²', 'Dispozice bytu': '1+1', 'Cena bytu': '12000Kč/měsíc', 'Město': 'Zlín', 'Ulice': 'Díly III'}, {'Odkaz': 'https://www.sreality.cz//detail/pronajem/byt/pokoj/breznice-breznice-/4267840588', 'Rozměry bytu': '20m²', 'Dispozice bytu': 'pokoje', 'Cena bytu': '7500Kč/měsíc', 'Město': 'Březnice', 'Ulice': ''}, {'Odkaz': 'https://www.sreality.cz//detail/pronajem/byt/2+kk/zlin-zlin-pasecka/953279820', 'Rozměry bytu': '36m²', 'Dispozice bytu': '2+kk', 'Cena bytu': '12500Kč/měsíc', 'Město': 'Zlín', 'Ulice': 'Pasecká'}, {'Odkaz': 'https://www.sreality.cz//detail/pronajem/byt/pokoj/zlin-zlin-tyrsovo-nabrezi/1278517836', 'Rozměry bytu': '35m²', 'Dispozice bytu': 'pokoje', 'Cena bytu': '5500Kč/měsíc', 'Město': 'Zlín', 'Ulice': 'Tyršovo nábřeží'}, {'Odkaz': 'https://www.sreality.cz//detail/pronajem/byt/1+1/zlin-mladcova-/1192928076', 'Rozměry bytu': '44m²', 'Dispozice bytu': '1+1', 'Cena bytu': '11000Kč/měsíc', 'Město': 'Zlín - Mladcová', 'Ulice': ''}, {'Odkaz': 'https://www.sreality.cz//detail/pronajem/byt/2+1/zlin-lhotka-/931312460', 'Rozměry bytu': '65m²', 'Dispozice bytu': '2+1', 'Cena bytu': '12500Kč/měsíc', 'Město': 'Zlín - Lhotka', 'Ulice': ''}, {'Odkaz': 'https://www.sreality.cz//detail/pronajem/byt/2+1/zlin-zlin-ruzova/1069523788', 'Rozměry bytu': '70m²', 'Dispozice bytu': '2+1', 'Cena bytu': '18000Kč/měsíc', 'Město': 'Zlín', 'Ulice': 'Růžová'}, {'Odkaz': 'https://www.sreality.cz//detail/pronajem/byt/1+1/zlin-zlin-dlouha/2900337484', 'Rozměry bytu': '31m²', 'Dispozice bytu': '1+1', 'Cena bytu': '8900Kč/měsíc', 'Město': 'Zlín', 'Ulice': 'Dlouhá'}, {'Odkaz': 'https://www.sreality.cz//detail/pronajem/byt/1+1/zlin-zlin-podlesi-iv/2749342540', 'Rozměry bytu': '36m²', 'Dispozice bytu': '1+1', 'Cena bytu': '8900Kč/měsíc', 'Město': 'Zlín', 'Ulice': 'Podlesí IV'}, {'Odkaz': 'https://www.sreality.cz//detail/pronajem/byt/3+kk/zlin-zlin-koterova/536847180', 'Rozměry bytu': '63m²', 'Dispozice bytu': '3+kk', 'Cena bytu': '13000Kč/měsíc', 'Město': 'Zlín', 'Ulice': 'Kotěrova'}, {'Odkaz': 'https://www.sreality.cz//detail/pronajem/byt/1+kk/zlin-zlin-vetrna/2431017548', 'Rozměry bytu': '26m²', 'Dispozice bytu': '1+kk', 'Cena bytu': '8900Kč/měsíc', 'Město': 'Zlín', 'Ulice': 'Větrná'}, {'Odkaz': 'https://www.sreality.cz//detail/pronajem/byt/2+kk/zlin-malenovice-sokolovska/4068451148', 'Rozměry bytu': '55m²', 'Dispozice bytu': '2+kk', 'Cena bytu': '15900Kč/měsíc', 'Město': 'Zlín - Malenovice', 'Ulice': 'Sokolovská'}, {'Odkaz': 'https://www.sreality.cz//detail/pronajem/byt/4+1/zlin-zlin-stredova/1550058060', 'Rozměry bytu': '4+1', 'Dispozice bytu': 'bytu', 'Cena bytu': '16000Kč/měsíc', 'Město': 'Zlín', 'Ulice': 'Středová'}, {'Odkaz': 'https://www.sreality.cz//detail/pronajem/byt/2+1/zlin-malenovice-husova/946164300', 'Rozměry bytu': '48m²', 'Dispozice bytu': '2+1', 'Cena bytu': '10200Kč/měsíc', 'Město': 'Zlín - Malenovice', 'Ulice': 'Husova'}, {'Odkaz': 'https://www.sreality.cz//detail/pronajem/byt/2+kk/zlin-zlin-podlesi-v/3971523404', 'Rozměry bytu': '58m²', 'Dispozice bytu': '2+kk', 'Cena bytu': '12500Kč/měsíc', 'Město': 'Zlín', 'Ulice': 'Podlesí V'}, {'Odkaz': 'https://www.sreality.cz//detail/pronajem/byt/2+1/otrokovice-otrokovice-tr-osvobozeni/4002570828', 'Rozměry bytu': '65m²', 'Dispozice bytu': '2+1', 'Cena bytu': '11000Kč/měsíc', 'Město': 'Otrokovice', 'Ulice': 'tř. Osvobození'}, {'Odkaz': 'https://www.sreality.cz//detail/pronajem/byt/2+1/vizovice-vizovice-ctvrt-a-haby/2712908620', 'Rozměry bytu': '56m²', 'Dispozice bytu': '2+1', 'Cena bytu': '11500Kč/měsíc', 'Město': 'Vizovice', 'Ulice': 'čtvrť A. Háby'}, {'Odkaz': 'https://www.sreality.cz//detail/pronajem/byt/3+1/otrokovice-kvitkovice-hlavni/3048452940', 'Rozměry bytu': '65m²', 'Dispozice bytu': '3+1', 'Cena bytu': '12500Kč/měsíc', 'Město': 'Otrokovice - Kvítkovice', 'Ulice': 'Hlavní'}, {'Odkaz': 'https://www.sreality.cz//detail/pronajem/byt/2+1/otrokovice-otrokovice-nadrazni/2277090124', 'Rozměry bytu': '56m²', 'Dispozice bytu': '2+1', 'Cena bytu': '12000Kč/měsíc', 'Město': 'Otrokovice', 'Ulice': 'Nádražní'}, {'Odkaz': 'https://www.sreality.cz//detail/pronajem/byt/1+kk/zlin-priluky-bonecky-rybnik/3745096524', 'Rozměry bytu': '28m²', 'Dispozice bytu': '1+kk', 'Cena bytu': '15000Kč/měsíc', 'Město': 'Zlín - Příluky', 'Ulice': 'Boněcký rybník'}, {'Odkaz': 'https://www.sreality.cz//detail/pronajem/byt/1+kk/otrokovice-otrokovice-j-jaburkove/506045260', 'Rozměry bytu': '30m²', 'Dispozice bytu': '1+kk', 'Cena bytu': '10000Kč/měsíc', 'Město': 'Otrokovice', 'Ulice': 'J. Jabůrkové'}, {'Odkaz': 'https://www.sreality.cz//detail/pronajem/byt/3+1/otrokovice-otrokovice-svobodova/3727270732', 'Rozměry bytu': '73m²', 'Dispozice bytu': '3+1', 'Cena bytu': '19500Kč/měsíc', 'Město': 'Otrokovice', 'Ulice': 'Svobodova'}, {'Odkaz': 'https://www.sreality.cz//detail/pronajem/byt/2+1/zlin-zlin-bratri-jaronku/2104075084', 'Rozměry bytu': '54m²', 'Dispozice bytu': '2+1', 'Cena bytu': '12500Kč/měsíc', 'Město': 'Zlín', 'Ulice': 'Bratří Jaroňků'}, {'Odkaz': 'https://www.sreality.cz//detail/pronajem/byt/1+kk/zlin-zlin-kuty/53625420', 'Rozměry bytu': '30m²', 'Dispozice bytu': '1+kk', 'Cena bytu': '12000Kč/měsíc', 'Město': 'Zlín', 'Ulice': 'Kúty'}, {'Odkaz': 'https://www.sreality.cz//detail/pronajem/byt/1+1/zlin-zlin-potoky/3362869836', 'Rozměry bytu': '36m²', 'Dispozice bytu': '1+1', 'Cena bytu': '12500Kč/měsíc', 'Město': 'Zlín', 'Ulice': 'Potoky'}, {'Odkaz': 'https://www.sreality.cz//detail/pronajem/byt/2+1/otrokovice-kvitkovice-lidicka/2633671500', 'Rozměry bytu': '49m²', 'Dispozice bytu': '2+1', 'Cena bytu': '11000Kč/měsíc', 'Město': 'Otrokovice - Kvítkovice', 'Ulice': 'Lidická'}, {'Odkaz': 'https://www.sreality.cz//detail/pronajem/byt/3+kk/frystak-horni-ves-komenskeho/4162495308', 'Rozměry bytu': '63m²', 'Dispozice bytu': '3+kk', 'Cena bytu': '15000Kč/měsíc', 'Město': 'Fryšták - Horní Ves', 'Ulice': 'Komenského'}, {'Odkaz': 'https://www.sreality.cz//detail/pronajem/byt/3+kk/zlin-zlin-obeciny/3256525644', 'Rozměry bytu': '80m²', 'Dispozice bytu': '3+kk', 'Cena bytu': '15000Kč/měsíc', 'Město': 'Zlín', 'Ulice': 'Obeciny'}, {'Odkaz': 'https://www.sreality.cz//detail/pronajem/byt/3+1/zlin-malenovice-husova/1862968140', 'Rozměry bytu': '63m²', 'Dispozice bytu': '3+1', 'Cena bytu': '17490Kč/měsíc', 'Město': 'Zlín - Malenovice', 'Ulice': 'Husova'}, {'Odkaz': 'https://www.sreality.cz//detail/pronajem/byt/2+kk/zlin-priluky-nebeska/2857018188', 'Rozměry bytu': '70m²', 'Dispozice bytu': '2+kk', 'Cena bytu': '19800Kč/měsíc', 'Město': 'Zlín - Příluky', 'Ulice': 'Nebeská'}, {'Odkaz': 'https://www.sreality.cz//detail/pronajem/byt/1+kk/zlin-zlin-breznicka/2228634188', 'Rozměry bytu': '38m²', 'Dispozice bytu': '1+kk', 'Cena bytu': '10000Kč/měsíc', 'Město': 'Zlín', 'Ulice': 'Březnická'}, {'Odkaz': 'https://www.sreality.cz//detail/pronajem/byt/1+kk/zlin-prstne-svat-cecha/1133032268', 'Rozměry bytu': '25m²', 'Dispozice bytu': '1+kk', 'Cena bytu': '8400Kč/měsíc', 'Město': 'Zlín - Prštné', 'Ulice': 'Svat. Čecha'}, {'Odkaz': 'https://www.sreality.cz//detail/pronajem/byt/3+kk/sazovice-sazovice-/808739404', 'Rozměry bytu': '61m²', 'Dispozice bytu': '3+kk', 'Cena bytu': '17000Kč/měsíc', 'Město': 'Sazovice', 'Ulice': ''}, {'Odkaz': 'https://www.sreality.cz//detail/pronajem/byt/2+kk/zlin-zlin-podlesi-v/2449187660', 'Rozměry bytu': '56m²', 'Dispozice bytu': '2+kk', 'Cena bytu': '17000Kč/měsíc', 'Město': 'Zlín', 'Ulice': 'Podlesí V'}, {'Odkaz': 'https://www.sreality.cz//detail/pronajem/byt/1+1/zlin-zlin-dily-iv/4028343116', 'Rozměry bytu': '29m²', 'Dispozice bytu': '1+1', 'Cena bytu': '12000Kč/měsíc', 'Město': 'Zlín', 'Ulice': 'Díly IV'}, {'Odkaz': 'https://www.sreality.cz//detail/pronajem/byt/2+1/zlin-zlin-cihlarska/3188433740', 'Rozměry bytu': '55m²', 'Dispozice bytu': '2+1', 'Cena bytu': '16500Kč/měsíc', 'Město': 'Zlín', 'Ulice': 'Cihlářská'}, {'Odkaz': 'https://www.sreality.cz//detail/pronajem/byt/3+1/zlin-zlin-benesovo-nabrezi/3850085196', 'Rozměry bytu': '78m²', 'Dispozice bytu': '3+1', 'Cena bytu': '13000Kč/měsíc', 'Město': 'Zlín', 'Ulice': 'Benešovo nábřeží'}, {'Odkaz': 'https://www.sreality.cz//detail/pronajem/byt/3+1/zlin-zlin-trida-tomase-bati/3781927756', 'Rozměry bytu': '3+1', 'Dispozice bytu': 'bytu', 'Cena bytu': '13000Kč/měsíc', 'Město': 'Zlín', 'Ulice': 'třída Tomáše Bati'}, {'Odkaz': 'https://www.sreality.cz//detail/pronajem/byt/1+kk/valasske-klobouky-valasske-klobouky-masarykovo-namesti/1645978444', 'Rozměry bytu': '24m²', 'Dispozice bytu': '1+kk', 'Cena bytu': '10670Kč/měsíc', 'Město': 'Valašské Klobouky', 'Ulice': 'Masarykovo náměstí'}, {'Odkaz': 'https://www.sreality.cz//detail/pronajem/byt/1+1/zlin-zlin-u-zimniho-stadionu/3306468172', 'Rozměry bytu': '24m²', 'Dispozice bytu': '1+1', 'Cena bytu': '8768Kč/měsíc', 'Město': 'Zlín', 'Ulice': 'U Zimního stadionu'}, {'Odkaz': 'https://www.sreality.cz//detail/pronajem/byt/3+1/zlin-zlin-prikra/3492066124', 'Rozměry bytu': '110m²', 'Dispozice bytu': '3+1', 'Cena bytu': '17000Kč/měsíc', 'Město': 'Zlín', 'Ulice': 'Příkrá'}, {'Odkaz': 'https://www.sreality.cz//detail/pronajem/byt/2+kk/zlin-prstne-jiraskova/2002039628', 'Rozměry bytu': '40m²', 'Dispozice bytu': '2+kk', 'Cena bytu': '14000Kč/měsíc', 'Město': 'Zlín - Prštné', 'Ulice': 'Jiráskova'}, {'Odkaz': 'https://www.sreality.cz//detail/pronajem/byt/3+1/zlin-zlin-u-trojaku/426029900', 'Rozměry bytu': '92m²', 'Dispozice bytu': '3+1', 'Cena bytu': '16000Kč/měsíc', 'Město': 'Zlín', 'Ulice': 'U Trojáku'}, {'Odkaz': 'https://www.sreality.cz//detail/pronajem/byt/2+1/zlin-zlin-stefanikova/3309658700', 'Rozměry bytu': '43m²', 'Dispozice bytu': '2+1', 'Cena bytu': '14000Kč/měsíc', 'Město': 'Zlín', 'Ulice': 'Štefánikova'}, {'Odkaz': 'https://www.sreality.cz//detail/pronajem/byt/1+1/otrokovice-kvitkovice-lucni/3824530252', 'Rozměry bytu': '33m²', 'Dispozice bytu': '1+1', 'Cena bytu': '9650Kč/měsíc', 'Město': 'Otrokovice - Kvítkovice', 'Ulice': 'Luční'}, {'Odkaz': 'https://www.sreality.cz//detail/pronajem/byt/2+kk/zlin-zlin-kriby/2350232396', 'Rozměry bytu': '34m²', 'Dispozice bytu': '2+kk', 'Cena bytu': '10000Kč/měsíc', 'Město': 'Zlín', 'Ulice': 'Křiby'}, {'Odkaz': 'https://www.sreality.cz//detail/pronajem/byt/1+kk/otrokovice-kvitkovice-j-valcika/4044731212', 'Rozměry bytu': '29m²', 'Dispozice bytu': '1+kk', 'Cena bytu': '10500Kč/měsíc', 'Město': 'Otrokovice - Kvítkovice', 'Ulice': 'J. Valčíka'}, {'Odkaz': 'https://www.sreality.cz//detail/pronajem/byt/3+kk/zlin-zlin-mostni/2919609164', 'Rozměry bytu': '65m²', 'Dispozice bytu': '3+kk', 'Cena bytu': '12000Kč/měsíc', 'Město': 'Zlín', 'Ulice': 'Mostní'}, {'Odkaz': 'https://www.sreality.cz//detail/pronajem/byt/3+kk/zlin-zlin-na-honech-i/302363468', 'Rozměry bytu': '98m²', 'Dispozice bytu': '3+kk', 'Cena bytu': '21700Kč/měsíc', 'Město': 'Zlín', 'Ulice': 'Na Honech I'}, {'Odkaz': 'https://www.sreality.cz//detail/pronajem/byt/3+kk/frystak-horni-ves-komenskeho/2452992844', 'Rozměry bytu': '62m²', 'Dispozice bytu': '3+kk', 'Cena bytu': '18000Kč/měsíc', 'Město': 'Fryšták - Horní Ves', 'Ulice': 'Komenského'}, {'Odkaz': 'https://www.sreality.cz//detail/pronajem/byt/1+kk/vizovice-vizovice-masarykovo-nam/2659627852', 'Rozměry bytu': '30m²', 'Dispozice bytu': '1+kk', 'Cena bytu': '11500Kč/měsíc', 'Město': 'Vizovice', 'Ulice': 'Masarykovo nám.'}, {'Odkaz': 'https://www.sreality.cz//detail/pronajem/byt/2+kk/zlin-zlin-partyzanska/2913579852', 'Rozměry bytu': '80m²', 'Dispozice bytu': '2+kk', 'Cena bytu': '23500Kč/měsíc', 'Město': 'Zlín', 'Ulice': 'Partyzánská'}, {'Odkaz': 'https://www.sreality.cz//detail/pronajem/byt/1+kk/zlin-zlin-lorencova/1268953932', 'Rozměry bytu': '26m²', 'Dispozice bytu': '1+kk', 'Cena bytu': '10900Kč/měsíc', 'Město': 'Zlín', 'Ulice': 'Lorencova'}, {'Odkaz': 'https://www.sreality.cz//detail/pronajem/byt/2+kk/zlin-zlin-pasecka/1124811340', 'Rozměry bytu': '48m²', 'Dispozice bytu': '2+kk', 'Cena bytu': '17500Kč/měsíc', 'Město': 'Zlín', 'Ulice': 'Pasecká'}, {'Odkaz': 'https://www.sreality.cz//detail/pronajem/byt/pokoj/otrokovice-otrokovice-napajedelska/3607974476', 'Rozměry bytu': '35m²', 'Dispozice bytu': 'pokoje', 'Cena bytu': '9000Kč/měsíc', 'Město': 'Otrokovice', 'Ulice': 'Napajedelská'}, {'Odkaz': 'https://www.sreality.cz//detail/pronajem/byt/1+kk/zlin-zlin-stefanikova/762589772', 'Rozměry bytu': '20m²', 'Dispozice bytu': '1+kk', 'Cena bytu': '11900Kč/měsíc', 'Město': 'Zlín', 'Ulice': 'Štefánikova'}, {'Odkaz': 'https://www.sreality.cz//detail/pronajem/byt/1+kk/zlin-malenovice-hrebickova/1864807244', 'Rozměry bytu': '30m²', 'Dispozice bytu': '1+kk', 'Cena bytu': '15000Kč/měsíc', 'Město': 'Zlín - Malenovice', 'Ulice': 'Hřebíčkova'}, {'Odkaz': 'https://www.sreality.cz//detail/pronajem/byt/1+1/zlin-louky-zadni-luhy/824423244', 'Rozměry bytu': '20m²', 'Dispozice bytu': '1+1', 'Cena bytu': '10000Kč/měsíc', 'Město': 'Zlín - Louky', 'Ulice': 'Zadní luhy'}, {'Odkaz': 'https://www.sreality.cz//detail/pronajem/byt/1+kk/zlin-zlin-vejvanovska/757314380', 'Rozměry bytu': '20m²', 'Dispozice bytu': '1+kk', 'Cena bytu': '11500Kč/měsíc', 'Město': 'Zlín', 'Ulice': 'Vejvanovská'}, {'Odkaz': 'https://www.sreality.cz//detail/pronajem/byt/1+kk/otrokovice-kvitkovice-spojovaci/3810964300', 'Rozměry bytu': '1+kk', 'Dispozice bytu': 'bytu', 'Cena bytu': '11450Kč/měsíc', 'Město': 'Otrokovice - Kvítkovice', 'Ulice': 'Spojovací'}, {'Odkaz': 'https://www.sreality.cz//detail/pronajem/byt/1+1/vizovice-vizovice-stepska/2686890828', 'Rozměry bytu': '34m²', 'Dispozice bytu': '1+1', 'Cena bytu': '9200Kč/měsíc', 'Město': 'Vizovice', 'Ulice': 'Štěpská'}, {'Odkaz': 'https://www.sreality.cz//detail/pronajem/byt/atypicky/zlin-zlin-vejvanovska/692564812', 'Rozměry bytu': '93m²', 'Dispozice bytu': 'atypický', 'Cena bytu': '15500Kč/měsíc', 'Město': 'Zlín', 'Ulice': 'Vejvanovská'}, {'Odkaz': 'https://www.sreality.cz//detail/pronajem/byt/1+kk/otrokovice-otrokovice-skolni/2030089036', 'Rozměry bytu': '30m²', 'Dispozice bytu': '1+kk', 'Cena bytu': '8900Kč/měsíc', 'Město': 'Otrokovice', 'Ulice': 'Školní'}, {'Odkaz': 'https://www.sreality.cz//detail/pronajem/byt/1+1/zlin-zlin-nivy-i/2486219596', 'Rozměry bytu': '1+1', 'Dispozice bytu': 'bytu', 'Cena bytu': '12000Kč/měsíc', 'Město': 'Zlín', 'Ulice': 'Nivy I'}, {'Odkaz': 'https://www.sreality.cz//detail/pronajem/byt/2+1/zlin-zlin-stefanikova/1075884876', 'Rozměry bytu': '35m²', 'Dispozice bytu': '2+1', 'Cena bytu': '14000Kč/měsíc', 'Město': 'Zlín', 'Ulice': 'Štefánikova'}, {'Odkaz': 'https://www.sreality.cz//detail/pronajem/byt/2+1/slavicin-slavicin-dlouha/1811002188', 'Rozměry bytu': '50m²', 'Dispozice bytu': '2+1', 'Cena bytu': '12000Kč/měsíc', 'Město': 'Slavičín', 'Ulice': 'Dlouhá'}, {'Odkaz': 'https://www.sreality.cz//detail/pronajem/byt/1+kk/zlin-zlin-lorencova/1268953932', 'Rozměry bytu': '26m²', 'Dispozice bytu': '1+kk', 'Cena bytu': '10900Kč/měsíc', 'Město': 'Zlín', 'Ulice': 'Lorencova'}, {'Odkaz': 'https://www.sreality.cz//detail/pronajem/byt/4+1/zlin-zlin-zalesna-ii/888320844', 'Rozměry bytu': '98m²', 'Dispozice bytu': '4+1', 'Cena bytu': '20400Kč/měsíc', 'Město': 'Zlín', 'Ulice': 'Zálešná II'}, {'Odkaz': 'https://www.sreality.cz//detail/pronajem/byt/1+1/slavicin-slavicin-u-zahradek/487764812', 'Rozměry bytu': '36m²', 'Dispozice bytu': '1+1', 'Cena bytu': '9000Kč/měsíc', 'Město': 'Slavičín', 'Ulice': 'U Zahrádek'}, {'Odkaz': 'https://www.sreality.cz//detail/pronajem/byt/1+kk/zlin-zlin-stefanikova/2787291980', 'Rozměry bytu': '24m²', 'Dispozice bytu': '1+kk', 'Cena bytu': '11900Kč/měsíc', 'Město': 'Zlín', 'Ulice': 'Štefánikova'}, {'Odkaz': 'https://www.sreality.cz//detail/pronajem/byt/1+kk/otrokovice-otrokovice-/568570700', 'Rozměry bytu': '35m²', 'Dispozice bytu': '1+kk', 'Cena bytu': '11500Kč/měsíc', 'Město': 'Otrokovice', 'Ulice': ''}, {'Odkaz': 'https://www.sreality.cz//detail/pronajem/byt/1+kk/zlin-zlin-na-honech-i/520336204', 'Rozměry bytu': '29m²', 'Dispozice bytu': '1+kk', 'Cena bytu': '9500Kč/měsíc', 'Město': 'Zlín', 'Ulice': 'Na Honech I'}, {'Odkaz': 'https://www.sreality.cz//detail/pronajem/byt/3+kk/zlin-zlin-vaclavska/1514386252', 'Rozměry bytu': '92m²', 'Dispozice bytu': '3+kk', 'Cena bytu': '18900Kč/měsíc', 'Město': 'Zlín', 'Ulice': 'Václavská'}, {'Odkaz': 'https://www.sreality.cz//detail/pronajem/byt/1+kk/zlin-prstne-svat-cecha/1133032268', 'Rozměry bytu': '25m²', 'Dispozice bytu': '1+kk', 'Cena bytu': '8400Kč/měsíc', 'Město': 'Zlín - Prštné', 'Ulice': 'Svat. Čecha'}, {'Odkaz': 'https://www.sreality.cz//detail/pronajem/byt/3+kk/zlin-zlin-vezove-domy/2053354316', 'Rozměry bytu': '62m²', 'Dispozice bytu': '3+kk', 'Cena bytu': '14000Kč/měsíc', 'Město': 'Zlín', 'Ulice': 'Věžové domy'}, {'Odkaz': 'https://www.sreality.cz//detail/pronajem/byt/1+1/zlin-priluky-pod-mlynem/1664791372', 'Rozměry bytu': '33m²', 'Dispozice bytu': '1+1', 'Cena bytu': '10000Kč/měsíc', 'Město': 'Zlín - Příluky', 'Ulice': 'Pod Mlýnem'}, {'Odkaz': 'https://www.sreality.cz//detail/pronajem/byt/1+kk/zlin-zlin-breznicka/217887564', 'Rozměry bytu': '42m²', 'Dispozice bytu': '1+kk', 'Cena bytu': '15500Kč/měsíc', 'Město': 'Zlín', 'Ulice': 'Březnická'}, {'Odkaz': 'https://www.sreality.cz//detail/pronajem/byt/2+kk/zlin-zlin-kuty/1074008652', 'Rozměry bytu': '62m²', 'Dispozice bytu': '2+kk', 'Cena bytu': '18900Kč/měsíc', 'Město': 'Zlín', 'Ulice': 'Kúty'}, {'Odkaz': 'https://www.sreality.cz//detail/pronajem/byt/1+kk/frystak-frystak-holesovska/3423384396', 'Rozměry bytu': '26m²', 'Dispozice bytu': '1+kk', 'Cena bytu': '9000Kč/měsíc', 'Město': 'Fryšták', 'Ulice': 'Holešovská'}, {'Odkaz': 'https://www.sreality.cz//detail/pronajem/byt/2+1/zlin-zlin-kamenna/758952780', 'Rozměry bytu': '57m²', 'Dispozice bytu': '2+1', 'Cena bytu': '13700Kč/měsíc', 'Město': 'Zlín', 'Ulice': 'Kamenná'}, {'Odkaz': 'https://www.sreality.cz//detail/pronajem/byt/1+kk/zlin-stipa-kostelecka/2638000972', 'Rozměry bytu': '30m²', 'Dispozice bytu': '1+kk', 'Cena bytu': '9500Kč/měsíc', 'Město': 'Zlín - Štípa', 'Ulice': 'Kostelecká'}, {'Odkaz': 'https://www.sreality.cz//detail/pronajem/byt/4+kk/zlin-kudlov-vrchy/1114420044', 'Rozměry bytu': '147m²', 'Dispozice bytu': '4+kk', 'Cena bytu': '35000Kč/měsíc', 'Město': 'Zlín - Kudlov', 'Ulice': 'Vrchy'}, {'Odkaz': 'https://www.sreality.cz//detail/pronajem/byt/1+kk/zlin-zlin-breznicka/3217011532', 'Rozměry bytu': '42m²', 'Dispozice bytu': '1+kk', 'Cena bytu': '12000Kč/měsíc', 'Město': 'Zlín', 'Ulice': 'Březnická'}, {'Odkaz': 'https://www.sreality.cz//detail/pronajem/byt/2+1/zlin-zlin-dukelska/402633548', 'Rozměry bytu': '54m²', 'Dispozice bytu': '2+1', 'Cena bytu': '17000Kč/měsíc', 'Město': 'Zlín', 'Ulice': 'Dukelská'}, {'Odkaz': 'https://www.sreality.cz//detail/pronajem/byt/3+kk/luhacovice-luhacovice-uprkova/1598010188', 'Rozměry bytu': '82m²', 'Dispozice bytu': '3+kk', 'Cena bytu': '20000Kč/měsíc', 'Město': 'Luhačovice', 'Ulice': 'Úprkova'}, {'Odkaz': 'https://www.sreality.cz//detail/pronajem/byt/1+kk/zlin-prstne-svat-cecha/1133032268', 'Rozměry bytu': '25m²', 'Dispozice bytu': '1+kk', 'Cena bytu': '8400Kč/měsíc', 'Město': 'Zlín - Prštné', 'Ulice': 'Svat. Čecha'}, {'Odkaz': 'https://www.sreality.cz//detail/pronajem/byt/1+kk/zlin-prstne-b-nemcove/1974055756', 'Rozměry bytu': '28m²', 'Dispozice bytu': '1+kk', 'Cena bytu': '12200Kč/měsíc', 'Město': 'Zlín - Prštné', 'Ulice': 'B. Němcové'}, {'Odkaz': 'https://www.sreality.cz//detail/pronajem/byt/3+1/otrokovice-otrokovice-/685355852', 'Rozměry bytu': '74m²', 'Dispozice bytu': '3+1', 'Cena bytu': '18000Kč/měsíc', 'Město': 'Otrokovice', 'Ulice': ''}, {'Odkaz': 'https://www.sreality.cz//detail/pronajem/byt/1+1/otrokovice-kvitkovice-snp/3743904332', 'Rozměry bytu': '42m²', 'Dispozice bytu': '1+1', 'Cena bytu': '13000Kč/měsíc', 'Město': 'Otrokovice - Kvítkovice', 'Ulice': 'SNP'}, {'Odkaz': 'https://www.sreality.cz//detail/pronajem/byt/4+1/zlin-zlin-okruzni/775029324', 'Rozměry bytu': '88m²', 'Dispozice bytu': '4+1', 'Cena bytu': '25500Kč/měsíc', 'Město': 'Zlín', 'Ulice': 'Okružní'}, {'Odkaz': 'https://www.sreality.cz//detail/pronajem/byt/3+1/zlin-zlin-benesovo-nabrezi/690664268', 'Rozměry bytu': '68m²', 'Dispozice bytu': '3+1', 'Cena bytu': '21500Kč/měsíc', 'Město': 'Zlín', 'Ulice': 'Benešovo nábřeží'}, {'Odkaz': 'https://www.sreality.cz//detail/pronajem/byt/2+1/zlin-zlin-m-knesla/2439689036', 'Rozměry bytu': '55m²', 'Dispozice bytu': '2+1', 'Cena bytu': '12000Kč/měsíc', 'Město': 'Zlín', 'Ulice': 'M. Knesla'}, {'Odkaz': 'https://www.sreality.cz//detail/pronajem/byt/1+kk/zlin-zlin-k-majaku/1641788236', 'Rozměry bytu': '25m²', 'Dispozice bytu': '1+kk', 'Cena bytu': '8000Kč/měsíc', 'Město': 'Zlín', 'Ulice': 'K Majáku'}, {'Odkaz': 'https://www.sreality.cz//detail/pronajem/byt/2+1/otrokovice-otrokovice-cechova/1197192012', 'Rozměry bytu': '45m²', 'Dispozice bytu': '2+1', 'Cena bytu': '13000Kč/měsíc', 'Město': 'Otrokovice', 'Ulice': 'Čechova'}, {'Odkaz': 'https://www.sreality.cz//detail/pronajem/byt/1+kk/zlin-prstne-svat-cecha/1133032268', 'Rozměry bytu': '25m²', 'Dispozice bytu': '1+kk', 'Cena bytu': '8400Kč/měsíc', 'Město': 'Zlín - Prštné', 'Ulice': 'Svat. Čecha'}, {'Odkaz': 'https://www.sreality.cz//detail/pronajem/byt/3+1/zlin-zlin-severni-vrsava/1749791564', 'Rozměry bytu': '73m²', 'Dispozice bytu': '3+1', 'Cena bytu': '14000Kč/měsíc', 'Město': 'Zlín', 'Ulice': 'Severní Vršava'}, {'Odkaz': 'https://www.sreality.cz//detail/pronajem/byt/2+kk/zlin-zlin-fugnerovo-nabrezi/1202995788', 'Rozměry bytu': '58m²', 'Dispozice bytu': '2+kk', 'Cena bytu': '18000Kč/měsíc', 'Město': 'Zlín', 'Ulice': 'Fügnerovo nábřeží'}, {'Odkaz': 'https://www.sreality.cz//detail/pronajem/byt/2+1/otrokovice-otrokovice-tylova/3869524556', 'Rozměry bytu': '66m²', 'Dispozice bytu': '2+1', 'Cena bytu': '16000Kč/měsíc', 'Město': 'Otrokovice', 'Ulice': 'Tylova'}, {'Odkaz': 'https://www.sreality.cz//detail/pronajem/byt/2+kk/zlin-zlin-stefanikova/2143699532', 'Rozměry bytu': '52m²', 'Dispozice bytu': '2+kk', 'Cena bytu': '23900Kč/měsíc', 'Město': 'Zlín', 'Ulice': 'Štefánikova'}, {'Odkaz': 'https://www.sreality.cz//detail/pronajem/byt/3+1/luhacovice-luhacovice-druzstevni/2954248780', 'Rozměry bytu': '75m²', 'Dispozice bytu': '3+1', 'Cena bytu': '15700Kč/měsíc', 'Město': 'Luhačovice', 'Ulice': 'Družstevní'}, {'Odkaz': 'https://www.sreality.cz//detail/pronajem/byt/1+kk/zlin-zlin-detska/86393420', 'Rozměry bytu': '27m²', 'Dispozice bytu': '1+kk', 'Cena bytu': '12000Kč/měsíc', 'Město': 'Zlín', 'Ulice': 'Dětská'}, {'Odkaz': 'https://www.sreality.cz//detail/pronajem/byt/1+kk/zlin-zlin-trida-tomase-bati/354894412', 'Rozměry bytu': '25m²', 'Dispozice bytu': '1+kk', 'Cena bytu': '10000Kč/měsíc', 'Město': 'Zlín', 'Ulice': 'třída Tomáše Bati'}, {'Odkaz': 'https://www.sreality.cz//detail/pronajem/byt/2+1/zlin-zlin-na-honech-ii/3782468172', 'Rozměry bytu': '45m²', 'Dispozice bytu': '2+1', 'Cena bytu': '9800Kč/měsíc', 'Město': 'Zlín', 'Ulice': 'Na Honech II'}, {'Odkaz': 'https://www.sreality.cz//detail/pronajem/byt/1+kk/zlin-zlin-druzstevni/1254113868', 'Rozměry bytu': '35m²', 'Dispozice bytu': '1+kk', 'Cena bytu': '12500Kč/měsíc', 'Město': 'Zlín', 'Ulice': 'Družstevní'}, {'Odkaz': 'https://www.sreality.cz//detail/pronajem/byt/2+1/valasske-klobouky-valasske-klobouky-masarykovo-namesti/2166374988', 'Rozměry bytu': '70m²', 'Dispozice bytu': '2+1', 'Cena bytu': '15450Kč/měsíc', 'Město': 'Valašské Klobouky', 'Ulice': 'Masarykovo náměstí'}, {'Odkaz': 'https://www.sreality.cz//detail/pronajem/byt/2+kk/zlin-zlin-pasecka/3080602188', 'Rozměry bytu': '51m²', 'Dispozice bytu': '2+kk', 'Cena bytu': '16000Kč/měsíc', 'Město': 'Zlín', 'Ulice': 'Pasecká'}, {'Odkaz': 'https://www.sreality.cz//detail/pronajem/byt/2+1/zlin-zlin-podvesna-iv/783434316', 'Rozměry bytu': '57m²', 'Dispozice bytu': '2+1', 'Cena bytu': '12500Kč/měsíc', 'Město': 'Zlín', 'Ulice': 'Podvesná IV'}, {'Odkaz': 'https://www.sreality.cz//detail/pronajem/byt/3+kk/frystak-horni-ves-komenskeho/549601868', 'Rozměry bytu': '57m²', 'Dispozice bytu': '3+kk', 'Cena bytu': '15000Kč/měsíc', 'Město': 'Fryšták - Horní Ves', 'Ulice': 'Komenského'}, {'Odkaz': 'https://www.sreality.cz//detail/pronajem/byt/3+1/zlin-zlin-mostni/3403825740', 'Rozměry bytu': '52m²', 'Dispozice bytu': '3+1', 'Cena bytu': '25000Kč/měsíc', 'Město': 'Zlín', 'Ulice': 'Mostní'}, {'Odkaz': 'https://www.sreality.cz//detail/pronajem/byt/1+kk/zlin-zlin-kvitkova/1620263500', 'Rozměry bytu': '33m²', 'Dispozice bytu': '1+kk', 'Cena bytu': '13900Kč/měsíc', 'Město': 'Zlín', 'Ulice': 'Kvítková'}, {'Odkaz': 'https://www.sreality.cz//detail/pronajem/byt/1+1/zlin-zlin-sokolska/719077964', 'Rozměry bytu': '46m²', 'Dispozice bytu': '1+1', 'Cena bytu': '10300Kč/měsíc', 'Město': 'Zlín', 'Ulice': 'Sokolská'}, {'Odkaz': 'https://www.sreality.cz//detail/pronajem/byt/1+kk/zlin-priluky-pancava/1189888588', 'Rozměry bytu': '30m²', 'Dispozice bytu': '1+kk', 'Cena bytu': '8000Kč/měsíc', 'Město': 'Zlín - Příluky', 'Ulice': 'Pančava'}, {'Odkaz': 'https://www.sreality.cz//detail/pronajem/byt/2+1/brumov-bylnice-brumov-druzba/3026010700', 'Rozměry bytu': '59m²', 'Dispozice bytu': '2+1', 'Cena bytu': '13000Kč/měsíc', 'Město': 'Brumov-Bylnice - Brumov', 'Ulice': 'Družba'}, {'Odkaz': 'https://www.sreality.cz//detail/pronajem/byt/1+kk/zlin-zlin-kvitkova/3340595788', 'Rozměry bytu': '33m²', 'Dispozice bytu': '1+kk', 'Cena bytu': '14900Kč/měsíc', 'Město': 'Zlín', 'Ulice': 'Kvítková'}, {'Odkaz': 'https://www.sreality.cz//detail/pronajem/byt/1+1/zlin-mladcova-mokra-i/3634451020', 'Rozměry bytu': '37m²', 'Dispozice bytu': '1+1', 'Cena bytu': '11000Kč/měsíc', 'Město': 'Zlín - Mladcová', 'Ulice': 'Mokrá I'}, {'Odkaz': 'https://www.sreality.cz//detail/pronajem/byt/1+kk/zlin-prstne-svat-cecha/1133032268', 'Rozměry bytu': '25m²', 'Dispozice bytu': '1+kk', 'Cena bytu': '8400Kč/měsíc', 'Město': 'Zlín - Prštné', 'Ulice': 'Svat. Čecha'}, {'Odkaz': 'https://www.sreality.cz//detail/pronajem/byt/2+kk/zlin-zlin-javorova/120472140', 'Rozměry bytu': '34m²', 'Dispozice bytu': '2+kk', 'Cena bytu': '10500Kč/měsíc', 'Město': 'Zlín', 'Ulice': 'Javorová'}, {'Odkaz': 'https://www.sreality.cz//detail/pronajem/byt/2+1/zlin-zlin-dlouha/3058582092', 'Rozměry bytu': '56m²', 'Dispozice bytu': '2+1', 'Cena bytu': '16000Kč/měsíc', 'Město': 'Zlín', 'Ulice': 'Dlouhá'}, {'Odkaz': 'https://www.sreality.cz//detail/pronajem/byt/3+kk/otrokovice-otrokovice-moravni/1148076620', 'Rozměry bytu': '61m²', 'Dispozice bytu': '3+kk', 'Cena bytu': '15500Kč/měsíc', 'Město': 'Otrokovice', 'Ulice': 'Moravní'}, {'Odkaz': 'https://www.sreality.cz//detail/pronajem/byt/3+kk/luhacovice-luhacovice-dr-veseleho/3013558860', 'Rozměry bytu': '96m²', 'Dispozice bytu': '3+kk', 'Cena bytu': '36000Kč/měsíc', 'Město': 'Luhačovice', 'Ulice': 'Dr. Veselého'}, {'Odkaz': 'https://www.sreality.cz//detail/pronajem/byt/2+kk/zlin-zlin-osvoboditelu/3768533580', 'Rozměry bytu': '49m²', 'Dispozice bytu': '2+kk', 'Cena bytu': '12000Kč/měsíc', 'Město': 'Zlín', 'Ulice': 'Osvoboditelů'}, {'Odkaz': 'https://www.sreality.cz//detail/pronajem/byt/3+1/zlin-zlin-stefanikova/2702131788', 'Rozměry bytu': '72m²', 'Dispozice bytu': '3+1', 'Cena bytu': '14900Kč/měsíc', 'Město': 'Zlín', 'Ulice': 'Štefánikova'}, {'Odkaz': 'https://www.sreality.cz//detail/pronajem/byt/1+kk/zlin-zlin-lorencova/3647947340', 'Rozměry bytu': '30m²', 'Dispozice bytu': '1+kk', 'Cena bytu': '11000Kč/měsíc', 'Město': 'Zlín', 'Ulice': 'Lorencova'}, {'Odkaz': 'https://www.sreality.cz//detail/pronajem/byt/3+kk/luhacovice-luhacovice-nadrazni/287916620', 'Rozměry bytu': '96m²', 'Dispozice bytu': '3+kk', 'Cena bytu': 'Cena na vyžádání', 'Město': 'Luhačovice', 'Ulice': 'Nádražní'}, {'Odkaz': 'https://www.sreality.cz//detail/pronajem/byt/2+1/zlin-zlin-padelky-vi/2634695244', 'Rozměry bytu': '70m²', 'Dispozice bytu': '2+1', 'Cena bytu': '12000Kč/měsíc', 'Město': 'Zlín', 'Ulice': 'Padělky VI'}, {'Odkaz': 'https://www.sreality.cz//detail/pronajem/byt/2+1/zlin-kudlov-fabianka-ii/1993175628', 'Rozměry bytu': '66m²', 'Dispozice bytu': '2+1', 'Cena bytu': '13700Kč/měsíc', 'Město': 'Zlín - Kudlov', 'Ulice': 'Fabiánka II'}, {'Odkaz': 'https://www.sreality.cz//detail/pronajem/byt/2+1/napajedla-napajedla-nabrezi/3584913996', 'Rozměry bytu': '61m²', 'Dispozice bytu': '2+1', 'Cena bytu': '11000Kč/měsíc', 'Město': 'Napajedla', 'Ulice': 'Nábřeží'}, {'Odkaz': 'https://www.sreality.cz//detail/pronajem/byt/4+1/zlin-zlin-okruzni/668226124', 'Rozměry bytu': '4+1', 'Dispozice bytu': 'bytu', 'Cena bytu': '17000Kč/měsíc', 'Město': 'Zlín', 'Ulice': 'Okružní'}, {'Odkaz': 'https://www.sreality.cz//detail/pronajem/byt/3+1/vizovice-vizovice-masarykovo-nam/595612236', 'Rozměry bytu': '78m²', 'Dispozice bytu': '3+1', 'Cena bytu': '15500Kč/měsíc', 'Město': 'Vizovice', 'Ulice': 'Masarykovo nám.'}, {'Odkaz': 'https://www.sreality.cz//detail/pronajem/byt/1+kk/zlin-zlin-kvitkova/145838668', 'Rozměry bytu': '33m²', 'Dispozice bytu': '1+kk', 'Cena bytu': '19900Kč/měsíc', 'Město': 'Zlín', 'Ulice': 'Kvítková'}, {'Odkaz': 'https://www.sreality.cz//detail/pronajem/byt/1+kk/zlin-zlin-kvitkova/3645023052', 'Rozměry bytu': '33m²', 'Dispozice bytu': '1+kk', 'Cena bytu': '12000Kč/měsíc', 'Město': 'Zlín', 'Ulice': 'Kvítková'}, {'Odkaz': 'https://www.sreality.cz//detail/pronajem/byt/1+kk/zlin-zlin-druzstevni/214127180', 'Rozměry bytu': '26m²', 'Dispozice bytu': '1+kk', 'Cena bytu': '8000Kč/měsíc', 'Město': 'Zlín', 'Ulice': 'Družstevní'}, {'Odkaz': 'https://www.sreality.cz//detail/pronajem/byt/1+1/zlin-zlin-kuty/2469614156', 'Rozměry bytu': '39m²', 'Dispozice bytu': '1+1', 'Cena bytu': '9000Kč/měsíc', 'Město': 'Zlín', 'Ulice': 'Kúty'}, {'Odkaz': 'https://www.sreality.cz//detail/pronajem/byt/2+kk/breznice-breznice-/186470988', 'Rozměry bytu': '54m²', 'Dispozice bytu': '2+kk', 'Cena bytu': '12900Kč/měsíc', 'Město': 'Březnice', 'Ulice': ''}, {'Odkaz': 'https://www.sreality.cz//detail/pronajem/byt/2+1/zlin-priluky-prilucka/2926531148', 'Rozměry bytu': '73m²', 'Dispozice bytu': '2+1', 'Cena bytu': '16000Kč', 'Město': 'Zlín - Příluky', 'Ulice': 'Přílucká'}, {'Odkaz': 'https://www.sreality.cz//detail/pronajem/byt/pokoj/hvozdna-hvozdna-sokolska/399069772', 'Rozměry bytu': '28m²', 'Dispozice bytu': 'pokoje', 'Cena bytu': '5000Kč/měsíc', 'Město': 'Hvozdná', 'Ulice': 'Sokolská'}, {'Odkaz': 'https://www.sreality.cz//detail/pronajem/byt/1+kk/zlin-prstne-svat-cecha/1133032268', 'Rozměry bytu': '25m²', 'Dispozice bytu': '1+kk', 'Cena bytu': '8400Kč/měsíc', 'Město': 'Zlín - Prštné', 'Ulice': 'Svat. Čecha'}, {'Odkaz': 'https://www.sreality.cz//detail/pronajem/byt/pokoj/zlin-zlin-trida-tomase-bati/3861402188', 'Rozměry bytu': '114m²', 'Dispozice bytu': 'pokoje', 'Cena bytu': '3708Kč/měsíc', 'Město': 'Zlín', 'Ulice': 'třída Tomáše Bati'}, {'Odkaz': 'https://www.sreality.cz//detail/pronajem/byt/3+kk/zlin-zlin-kamenna/1388991052', 'Rozměry bytu': '89m²', 'Dispozice bytu': '3+kk', 'Cena bytu': '20000Kč/měsíc', 'Město': 'Zlín', 'Ulice': 'Kamenná'}, {'Odkaz': 'https://www.sreality.cz//detail/pronajem/byt/3+1/zlin-zlin-podlesi-iii/3906822732', 'Rozměry bytu': '72m²', 'Dispozice bytu': '3+1', 'Cena bytu': '14000Kč/měsíc', 'Město': 'Zlín', 'Ulice': 'Podlesí III'}, {'Odkaz': 'https://www.sreality.cz//detail/pronajem/byt/1+kk/zlin-zlin-vetrna/2431017548', 'Rozměry bytu': '26m²', 'Dispozice bytu': '1+kk', 'Cena bytu': '8900Kč/měsíc', 'Město': 'Zlín', 'Ulice': 'Větrná'}, {'Odkaz': 'https://www.sreality.cz//detail/pronajem/byt/2+kk/zlin-louky-zadni-luhy/963818316', 'Rozměry bytu': '60m²', 'Dispozice bytu': '2+kk', 'Cena bytu': '14900Kč/měsíc', 'Město': 'Zlín - Louky', 'Ulice': 'Zadní luhy'}, {'Odkaz': 'https://www.sreality.cz//detail/pronajem/byt/pokoj/hvozdna-hvozdna-sokolska/1665557068', 'Rozměry bytu': '21m²', 'Dispozice bytu': 'pokoje', 'Cena bytu': '5000Kč/měsíc', 'Město': 'Hvozdná', 'Ulice': 'Sokolská'}, {'Odkaz': 'https://www.sreality.cz//detail/pronajem/byt/1+kk/zlin-zlin-smetanova/2670748236', 'Rozměry bytu': '45m²', 'Dispozice bytu': '1+kk', 'Cena bytu': '13200Kč/měsíc', 'Město': 'Zlín', 'Ulice': 'Smetanova'}, {'Odkaz': 'https://www.sreality.cz//detail/pronajem/byt/3+kk/zlin-malenovice-trida-3-kvetna/2379965004', 'Rozměry bytu': '12m²', 'Dispozice bytu': '3+kk', 'Cena bytu': '6000Kč/měsíc', 'Město': 'Zlín - Malenovice', 'Ulice': 'třída 3. května'}, {'Odkaz': 'https://www.sreality.cz//detail/pronajem/byt/atypicky/zlin-zlin-trida-tomase-bati/1991406156', 'Rozměry bytu': '25m²', 'Dispozice bytu': 'atypický', 'Cena bytu': '8500Kč/měsíc', 'Město': 'Zlín', 'Ulice': 'třída Tomáše Bati'}, {'Odkaz': 'https://www.sreality.cz//detail/pronajem/byt/pokoj/otrokovice-otrokovice-tr-spojencu/2953052748', 'Rozměry bytu': '21m²', 'Dispozice bytu': 'pokoje', 'Cena bytu': '8500Kč/měsíc', 'Město': 'Otrokovice', 'Ulice': 'tř. Spojenců'}, {'Odkaz': 'https://www.sreality.cz//detail/pronajem/byt/pokoj/otrokovice-otrokovice-tr-spojencu/84148812', 'Rozměry bytu': '21m²', 'Dispozice bytu': 'pokoje', 'Cena bytu': '10500Kč/měsíc', 'Město': 'Otrokovice', 'Ulice': 'tř. Spojenců'}, {'Odkaz': 'https://www.sreality.cz//detail/pronajem/byt/pokoj/otrokovice-otrokovice-tr-spojencu/3644064332', 'Rozměry bytu': '21m²', 'Dispozice bytu': 'pokoje', 'Cena bytu': '9500Kč/měsíc', 'Město': 'Otrokovice', 'Ulice': 'tř. Spojenců'}, {'Odkaz': 'https://www.sreality.cz//detail/pronajem/byt/1+1/zlin-zlin-ceska/1908871756', 'Rozměry bytu': '33m²', 'Dispozice bytu': '1+1', 'Cena bytu': '11500Kč/měsíc', 'Město': 'Zlín', 'Ulice': 'Česká'}, {'Odkaz': 'https://www.sreality.cz//detail/pronajem/byt/pokoj/zlin-zlin-benesovo-nabrezi/2667782732', 'Rozměry bytu': '58m²', 'Dispozice bytu': 'pokoje', 'Cena bytu': '3800Kč/měsíc', 'Město': 'Zlín', 'Ulice': 'Benešovo nábřeží'}, {'Odkaz': 'https://www.sreality.cz//detail/pronajem/byt/pokoj/zlin-zlin-ceska/1236247372', 'Rozměry bytu': '89m²', 'Dispozice bytu': 'pokoje', 'Cena bytu': '3500Kč/měsíc', 'Město': 'Zlín', 'Ulice': 'Česká'}, {'Odkaz': 'https://www.sreality.cz//detail/pronajem/byt/2+kk/zlin-louky-/182441292', 'Rozměry bytu': '45m²', 'Dispozice bytu': '2+kk', 'Cena bytu': '12500Kč/měsíc', 'Město': 'Zlín - Louky', 'Ulice': ''}, {'Odkaz': 'https://www.sreality.cz//detail/pronajem/byt/1+1/rackova-rackova-/1342734924', 'Rozměry bytu': '40m²', 'Dispozice bytu': '1+1', 'Cena bytu': '12000Kč/měsíc', 'Město': 'Racková', 'Ulice': ''}, {'Odkaz': 'https://www.sreality.cz//detail/pronajem/byt/4+kk/luhacovice-luhacovice-/826365260', 'Rozměry bytu': '100m²', 'Dispozice bytu': '4+kk', 'Cena bytu': '39900Kč/měsíc', 'Město': 'Luhačovice', 'Ulice': ''}]\n"
     ]
    }
   ],
   "source": [
    "from bs4 import BeautifulSoup\n",
    "import requests\n",
    "import pandas as pd\n",
    "\n",
    "strana = 1\n",
    "list_bytu = []\n",
    "while True:\n",
    "    response = requests.get(f'https://www.sreality.cz/hledani/pronajem/byty/zlin?strana={strana}').text\n",
    "    soup = BeautifulSoup(response, \"html.parser\")\n",
    "\n",
    "    vsechny_byty = soup.find_all(name=\"li\", class_=\"MuiGrid2-root\")\n",
    "\n",
    "    for byt in vsechny_byty:\n",
    "        cast_odkazu = byt.find(\"a\", class_=\"MuiTypography-root\")\n",
    "        if cast_odkazu is None:\n",
    "            continue\n",
    "        plny_odkaz = \"https://www.sreality.cz/\" + cast_odkazu[\"href\"]\n",
    "        vsechny_radky = byt.find_all(\"p\")\n",
    "        prvni_radek = vsechny_radky[0].text.strip()\n",
    "        radek_casti = prvni_radek.split(\" \")\n",
    "\n",
    "        if len(radek_casti) >= 4:\n",
    "            kompozice = radek_casti[2]\n",
    "            velikost = radek_casti[3].replace(\"\\xa0\", \"\").strip()\n",
    "        else:\n",
    "            kompozice = \"\"\n",
    "            velikost = \"\"\n",
    "        radek_ceny = byt.find(\"p\",class_=\"css-ca9wwd\")\n",
    "        if radek_ceny is None:\n",
    "            continue\n",
    "        cena = radek_ceny.text.replace(\"\\xa0\", \"\").strip()\n",
    "        lokace = vsechny_radky[1].text\n",
    "        if \", \" in lokace:\n",
    "            ulice, mesto = lokace.split(\", \", 1)\n",
    "        else:\n",
    "            ulice = \"\"\n",
    "            mesto = lokace\n",
    "        \n",
    "        objekt = {\n",
    "            \"Odkaz\": plny_odkaz,\n",
    "            \"Rozměry bytu\": velikost,   \n",
    "            \"Dispozice bytu\": kompozice,\n",
    "            \"Cena bytu\": cena,\n",
    "            \"Město\": mesto, \n",
    "            \"Ulice\": ulice,\n",
    "        }\n",
    "\n",
    "        list_bytu.append(objekt)\n",
    "\n",
    "    tlacitko = soup.find('button', attrs={\"aria-label\": \"Další stránka\"})\n",
    "    if tlacitko is None:\n",
    "        print(\"Tlačítko 'Další stránka' nenalezeno - končím.\")\n",
    "        break\n",
    "    else:\n",
    "        strana += 1\n",
    "\n",
    "print(list_bytu)\n",
    "\n",
    "df = pd.DataFrame(list_bytu)\n",
    "df.to_csv(\"Martina_Marton_zdrojova_data.csv\",index=False, encoding=\"utf-8-sig\")\n"
   ]
  },
  {
   "cell_type": "markdown",
   "id": "f54576ab629fed11",
   "metadata": {},
   "source": [
    "### Datová analýza"
   ]
  },
  {
   "cell_type": "code",
   "execution_count": 120,
   "id": "4a2f14acc4baf746",
   "metadata": {},
   "outputs": [
    {
     "data": {
      "text/html": [
       "<div>\n",
       "<style scoped>\n",
       "    .dataframe tbody tr th:only-of-type {\n",
       "        vertical-align: middle;\n",
       "    }\n",
       "\n",
       "    .dataframe tbody tr th {\n",
       "        vertical-align: top;\n",
       "    }\n",
       "\n",
       "    .dataframe thead th {\n",
       "        text-align: right;\n",
       "    }\n",
       "</style>\n",
       "<table border=\"1\" class=\"dataframe\">\n",
       "  <thead>\n",
       "    <tr style=\"text-align: right;\">\n",
       "      <th></th>\n",
       "      <th>Odkaz</th>\n",
       "      <th>Rozměry bytu</th>\n",
       "      <th>Dispozice bytu</th>\n",
       "      <th>Cena bytu</th>\n",
       "      <th>Město</th>\n",
       "      <th>Ulice</th>\n",
       "    </tr>\n",
       "  </thead>\n",
       "  <tbody>\n",
       "    <tr>\n",
       "      <th>0</th>\n",
       "      <td>https://www.sreality.cz//detail/pronajem/byt/1...</td>\n",
       "      <td>26m²</td>\n",
       "      <td>1+kk</td>\n",
       "      <td>8900Kč/měsíc</td>\n",
       "      <td>Zlín</td>\n",
       "      <td>Větrná</td>\n",
       "    </tr>\n",
       "    <tr>\n",
       "      <th>1</th>\n",
       "      <td>https://www.sreality.cz//detail/pronajem/byt/1...</td>\n",
       "      <td>31m²</td>\n",
       "      <td>1+kk</td>\n",
       "      <td>Cena na vyžádání</td>\n",
       "      <td>Zlín</td>\n",
       "      <td>J. A. Bati</td>\n",
       "    </tr>\n",
       "    <tr>\n",
       "      <th>2</th>\n",
       "      <td>https://www.sreality.cz//detail/pronajem/byt/1...</td>\n",
       "      <td>37m²</td>\n",
       "      <td>1+kk</td>\n",
       "      <td>11500Kč/měsíc</td>\n",
       "      <td>Zlín</td>\n",
       "      <td>Zelinova</td>\n",
       "    </tr>\n",
       "    <tr>\n",
       "      <th>3</th>\n",
       "      <td>https://www.sreality.cz//detail/pronajem/byt/1...</td>\n",
       "      <td>44m²</td>\n",
       "      <td>1+kk</td>\n",
       "      <td>11000Kč/měsíc</td>\n",
       "      <td>Slavičín</td>\n",
       "      <td>Osvobození</td>\n",
       "    </tr>\n",
       "    <tr>\n",
       "      <th>4</th>\n",
       "      <td>https://www.sreality.cz//detail/pronajem/byt/1...</td>\n",
       "      <td>30m²</td>\n",
       "      <td>1+kk</td>\n",
       "      <td>10000Kč/měsíc</td>\n",
       "      <td>Zlín</td>\n",
       "      <td>Podlesí II</td>\n",
       "    </tr>\n",
       "  </tbody>\n",
       "</table>\n",
       "</div>"
      ],
      "text/plain": [
       "                                               Odkaz Rozměry bytu  \\\n",
       "0  https://www.sreality.cz//detail/pronajem/byt/1...         26m²   \n",
       "1  https://www.sreality.cz//detail/pronajem/byt/1...         31m²   \n",
       "2  https://www.sreality.cz//detail/pronajem/byt/1...         37m²   \n",
       "3  https://www.sreality.cz//detail/pronajem/byt/1...         44m²   \n",
       "4  https://www.sreality.cz//detail/pronajem/byt/1...         30m²   \n",
       "\n",
       "  Dispozice bytu         Cena bytu     Město       Ulice  \n",
       "0           1+kk      8900Kč/měsíc      Zlín      Větrná  \n",
       "1           1+kk  Cena na vyžádání      Zlín  J. A. Bati  \n",
       "2           1+kk     11500Kč/měsíc      Zlín    Zelinova  \n",
       "3           1+kk     11000Kč/měsíc  Slavičín  Osvobození  \n",
       "4           1+kk     10000Kč/měsíc      Zlín  Podlesí II  "
      ]
     },
     "execution_count": 120,
     "metadata": {},
     "output_type": "execute_result"
    }
   ],
   "source": [
    "import pandas as pd\n",
    "df = pd.read_csv(\"Martina_Marton_zdrojova_data.csv\")\n",
    "\n",
    "df.head()"
   ]
  },
  {
   "cell_type": "markdown",
   "id": "5ab8d189",
   "metadata": {},
   "source": [
    "Jaká je průměrná cena bytů?"
   ]
  },
  {
   "cell_type": "code",
   "execution_count": 141,
   "id": "d25c9c65",
   "metadata": {},
   "outputs": [
    {
     "name": "stdout",
     "output_type": "stream",
     "text": [
      "Průměrná cena bytu je 13 134 Kč.\n"
     ]
    }
   ],
   "source": [
    "import pandas as pd\n",
    "df = pd.read_csv(\"Martina_Marton_zdrojova_data.csv\")\n",
    "\n",
    "df[\"Cena bytu\"] = df[\"Cena bytu\"].str.replace(\"Kč/měsíc\", \"\").str.strip()\n",
    "df[\"Cena bytu\"] = pd.to_numeric(df[\"Cena bytu\"], errors=\"coerce\")\n",
    "\n",
    "prumer = df[\"Cena bytu\"].mean()\n",
    "print(f\"Průměrná cena bytu je {prumer:,.0f} Kč.\".replace(\",\", \" \"))\n",
    "\n",
    "\n"
   ]
  },
  {
   "cell_type": "markdown",
   "id": "260e9d19",
   "metadata": {},
   "source": [
    "Jaká je průměrná cena bytů pro každou dispozice (1+1, 2+1, atp.)? Zobrazte i na grafu."
   ]
  },
  {
   "cell_type": "code",
   "execution_count": 220,
   "id": "421a6f5e",
   "metadata": {},
   "outputs": [
    {
     "name": "stdout",
     "output_type": "stream",
     "text": [
      "Dispozice bytu\n",
      "pokoje       6500.727273\n",
      "1+1         10437.181818\n",
      "1+kk        11011.967213\n",
      "atypický    12000.000000\n",
      "2+1         12855.128205\n",
      "bytu        13890.000000\n",
      "2+kk        15387.083333\n",
      "3+1         16484.500000\n",
      "3+kk        17193.750000\n",
      "4+1         22950.000000\n",
      "4+kk        34966.666667\n",
      "Name: Cena bytu, dtype: float64\n"
     ]
    },
    {
     "data": {
      "image/png": "[encoded data removed]",
      "text/plain": [
       "<Figure size 800x500 with 1 Axes>"
      ]
     },
     "metadata": {},
     "output_type": "display_data"
    }
   ],
   "source": [
    "import pandas as pd\n",
    "df = pd.read_csv(\"Martina_Marton_zdrojova_data.csv\")\n",
    "\n",
    "df[\"Cena bytu\"] = df[\"Cena bytu\"].str.replace(\"Kč/měsíc\", \"\").str.strip()\n",
    "df[\"Cena bytu\"] = pd.to_numeric(df[\"Cena bytu\"], errors=\"coerce\")\n",
    "\n",
    "df[\"Dispozice bytu\"].unique()\n",
    "\n",
    "prumery_dispozic = df.groupby(\"Dispozice bytu\")[\"Cena bytu\"].mean().sort_values()\n",
    "print(prumery_dispozic)\n",
    "\n",
    "import matplotlib.pyplot as plt\n",
    "\n",
    "prumery_dispozic.plot(kind=\"barh\", figsize=(8, 5))\n",
    "plt.xlabel(\"Průměrná cena (Kč)\")\n",
    "plt.ylabel(\"Dispozice\")\n",
    "plt.title(\"Průměrná cena bytů podle dispozice\")\n",
    "plt.tight_layout()\n",
    "plt.show()\n"
   ]
  },
  {
   "cell_type": "markdown",
   "id": "2072718d",
   "metadata": {},
   "source": [
    "Jaká je průměrná velikost bytu pro každou dispozice?"
   ]
  },
  {
   "cell_type": "code",
   "execution_count": null,
   "id": "ab889b7c",
   "metadata": {},
   "outputs": [
    {
     "name": "stdout",
     "output_type": "stream",
     "text": [
      "Průměrná velikost bytu dispozice 1+kk je 30 m².\n",
      "Průměrná velikost bytu dispozice 1+1 je 35 m².\n",
      "Průměrná velikost bytu dispozice pokoje je 42 m².\n",
      "Průměrná velikost bytu dispozice 2+kk je 51 m².\n",
      "Průměrná velikost bytu dispozice 2+1 je 58 m².\n",
      "Průměrná velikost bytu dispozice atypický je 59 m².\n",
      "Průměrná velikost bytu dispozice 3+kk je 70 m².\n",
      "Průměrná velikost bytu dispozice 3+1 je 72 m².\n",
      "Průměrná velikost bytu dispozice 4+1 je 93 m².\n",
      "Průměrná velikost bytu dispozice 4+kk je 120 m².\n",
      "Průměrná velikost bytu dispozice bytu je nan m².\n"
     ]
    }
   ],
   "source": [
    "import pandas as pd\n",
    "df = pd.read_csv(\"Martina_Marton_zdrojova_data.csv\")\n",
    "\n",
    "df[\"Rozměry bytu\"] = (\n",
    "    df[\"Rozměry bytu\"]\n",
    "    .str.replace(\"m²\", \"\", regex=False)                           \n",
    ")\n",
    "\n",
    "df[\"Rozměry bytu\"] = pd.to_numeric(df[\"Rozměry bytu\"], errors=\"coerce\")\n",
    "\n",
    "prumery_velikosti = df.groupby(\"Dispozice bytu\")[\"Rozměry bytu\"].mean().sort_values()\n",
    "\n",
    "for dispozice, velikost in prumery_velikosti.items():\n",
    "    print(f\"Průměrná velikost bytu dispozice {dispozice} je {velikost:,.0f} m².\".replace(\",\", \" \"))\n",
    "\n"
   ]
  },
  {
   "cell_type": "markdown",
   "id": "63375e0b",
   "metadata": {},
   "source": [
    "Existuje ulice, kde je vyšší koncentrace dražších bytů?"
   ]
  },
  {
   "cell_type": "code",
   "execution_count": 212,
   "id": "5b5d7fd0",
   "metadata": {},
   "outputs": [
    {
     "data": {
      "text/html": [
       "<div>\n",
       "<style scoped>\n",
       "    .dataframe tbody tr th:only-of-type {\n",
       "        vertical-align: middle;\n",
       "    }\n",
       "\n",
       "    .dataframe tbody tr th {\n",
       "        vertical-align: top;\n",
       "    }\n",
       "\n",
       "    .dataframe thead th {\n",
       "        text-align: right;\n",
       "    }\n",
       "</style>\n",
       "<table border=\"1\" class=\"dataframe\">\n",
       "  <thead>\n",
       "    <tr style=\"text-align: right;\">\n",
       "      <th></th>\n",
       "      <th>index</th>\n",
       "      <th>Ulice</th>\n",
       "      <th>Průměrná cena</th>\n",
       "      <th>Počet bytů</th>\n",
       "    </tr>\n",
       "  </thead>\n",
       "  <tbody>\n",
       "    <tr>\n",
       "      <th>0</th>\n",
       "      <td>10</td>\n",
       "      <td>Dr. Veselého</td>\n",
       "      <td>36000.0</td>\n",
       "      <td>1</td>\n",
       "    </tr>\n",
       "    <tr>\n",
       "      <th>1</th>\n",
       "      <td>95</td>\n",
       "      <td>Vrchy</td>\n",
       "      <td>35000.0</td>\n",
       "      <td>1</td>\n",
       "    </tr>\n",
       "    <tr>\n",
       "      <th>2</th>\n",
       "      <td>20</td>\n",
       "      <td>Havlíčkovo nábřeží</td>\n",
       "      <td>30000.0</td>\n",
       "      <td>1</td>\n",
       "    </tr>\n",
       "    <tr>\n",
       "      <th>3</th>\n",
       "      <td>65</td>\n",
       "      <td>Partyzánská</td>\n",
       "      <td>23500.0</td>\n",
       "      <td>1</td>\n",
       "    </tr>\n",
       "    <tr>\n",
       "      <th>4</th>\n",
       "      <td>60</td>\n",
       "      <td>Okružní</td>\n",
       "      <td>21250.0</td>\n",
       "      <td>2</td>\n",
       "    </tr>\n",
       "    <tr>\n",
       "      <th>...</th>\n",
       "      <td>...</td>\n",
       "      <td>...</td>\n",
       "      <td>...</td>\n",
       "      <td>...</td>\n",
       "    </tr>\n",
       "    <tr>\n",
       "      <th>112</th>\n",
       "      <td>30</td>\n",
       "      <td>K Majáku</td>\n",
       "      <td>8000.0</td>\n",
       "      <td>1</td>\n",
       "    </tr>\n",
       "    <tr>\n",
       "      <th>113</th>\n",
       "      <td>110</td>\n",
       "      <td>Česká</td>\n",
       "      <td>7500.0</td>\n",
       "      <td>2</td>\n",
       "    </tr>\n",
       "    <tr>\n",
       "      <th>114</th>\n",
       "      <td>106</td>\n",
       "      <td>třída 3. května</td>\n",
       "      <td>6000.0</td>\n",
       "      <td>1</td>\n",
       "    </tr>\n",
       "    <tr>\n",
       "      <th>115</th>\n",
       "      <td>89</td>\n",
       "      <td>Tyršovo nábřeží</td>\n",
       "      <td>5500.0</td>\n",
       "      <td>1</td>\n",
       "    </tr>\n",
       "    <tr>\n",
       "      <th>116</th>\n",
       "      <td>76</td>\n",
       "      <td>Přílucká</td>\n",
       "      <td>NaN</td>\n",
       "      <td>0</td>\n",
       "    </tr>\n",
       "  </tbody>\n",
       "</table>\n",
       "<p>117 rows × 4 columns</p>\n",
       "</div>"
      ],
      "text/plain": [
       "     index               Ulice  Průměrná cena  Počet bytů\n",
       "0       10        Dr. Veselého        36000.0           1\n",
       "1       95               Vrchy        35000.0           1\n",
       "2       20  Havlíčkovo nábřeží        30000.0           1\n",
       "3       65         Partyzánská        23500.0           1\n",
       "4       60             Okružní        21250.0           2\n",
       "..     ...                 ...            ...         ...\n",
       "112     30            K Majáku         8000.0           1\n",
       "113    110               Česká         7500.0           2\n",
       "114    106     třída 3. května         6000.0           1\n",
       "115     89     Tyršovo nábřeží         5500.0           1\n",
       "116     76            Přílucká            NaN           0\n",
       "\n",
       "[117 rows x 4 columns]"
      ]
     },
     "execution_count": 212,
     "metadata": {},
     "output_type": "execute_result"
    }
   ],
   "source": [
    "import pandas as pd\n",
    "df = pd.read_csv(\"Martina_Marton_zdrojova_data.csv\")\n",
    "\n",
    "df[\"Cena bytu\"] = df[\"Cena bytu\"].str.replace(\"Kč/měsíc\", \"\").str.strip()\n",
    "df[\"Cena bytu\"] = pd.to_numeric(df[\"Cena bytu\"], errors=\"coerce\")\n",
    "\n",
    "df_ulice = df[df[\"Ulice\"].notna()]\n",
    "\n",
    "statistiky_ulic = df_ulice.groupby(\"Ulice\").agg({\n",
    "    \"Cena bytu\": [\"mean\", \"count\"]\n",
    "}).reset_index()\n",
    "\n",
    "statistiky_ulic.columns = [\"Ulice\", \"Průměrná cena\", \"Počet bytů\"]\n",
    "\n",
    "statistiky_ulic.sort_values(by=\"Průměrná cena\", ascending=False).reset_index()\n",
    "\n",
    "\n"
   ]
  },
  {
   "cell_type": "markdown",
   "id": "5ac5d498",
   "metadata": {},
   "source": [
    "Jaký typ dispozice je v daném městě nejčastěji inzerovan? Který to je? Proč myslíte, že tomu tak je?"
   ]
  },
  {
   "cell_type": "code",
   "execution_count": 223,
   "id": "93b26bdb",
   "metadata": {},
   "outputs": [
    {
     "name": "stdout",
     "output_type": "stream",
     "text": [
      "Dispozice 1+kk je inzerována 62×\n",
      "Dispozice 2+1 je inzerována 40×\n",
      "Dispozice 2+kk je inzerována 24×\n",
      "Dispozice 1+1 je inzerována 22×\n",
      "Dispozice 3+1 je inzerována 20×\n",
      "Dispozice 3+kk je inzerována 17×\n",
      "Dispozice pokoje je inzerována 11×\n",
      "Dispozice bytu je inzerována 5×\n",
      "Dispozice 4+kk je inzerována 3×\n",
      "Dispozice atypický je inzerována 2×\n",
      "Dispozice 4+1 je inzerována 2×\n",
      "Nejčastěji inzerovanou dispozicí je: 1+kk\n"
     ]
    }
   ],
   "source": [
    "import pandas as pd\n",
    "df = pd.read_csv(\"Martina_Marton_zdrojova_data.csv\")\n",
    "\n",
    "df[\"Dispozice bytu\"].value_counts().reset_index()\n",
    "\n",
    "dispozice_counts = df[\"Dispozice bytu\"].value_counts()\n",
    "\n",
    "for dispozice, pocet in dispozice_counts.items():\n",
    "    print(f\"Dispozice {dispozice} je inzerována {pocet}×\")\n",
    "\n",
    "nejcastejsi = dispozice_counts.idxmax()\n",
    "print(f\"Nejčastěji inzerovanou dispozicí je: {nejcastejsi}\")"
   ]
  },
  {
   "cell_type": "markdown",
   "id": "51ca24f5",
   "metadata": {},
   "source": [
    "Existují zde inzerce bytů, které stojí více, než 20.000,-? Pokud ano, jsou v této cenové hladině inzerovány i maximálně dvoupokojové byty (2+1/2+kk)?"
   ]
  },
  {
   "cell_type": "code",
   "execution_count": 203,
   "id": "4a24631e",
   "metadata": {},
   "outputs": [
    {
     "name": "stdout",
     "output_type": "stream",
     "text": [
      "Dispozice bytu\n",
      "4+kk    3\n",
      "2+kk    3\n",
      "3+kk    2\n",
      "4+1     2\n",
      "3+1     2\n",
      "Name: count, dtype: int64\n",
      "Ano, i dvoupokojové byty jsou inzerovány za cenu nad 20 000 Kč.\n"
     ]
    }
   ],
   "source": [
    "import pandas as pd\n",
    "df = pd.read_csv(\"Martina_Marton_zdrojova_data.csv\")\n",
    "df[\"Cena bytu\"] = df[\"Cena bytu\"].str.replace(\"Kč/měsíc\", \"\").str.strip()\n",
    "df[\"Cena bytu\"] = pd.to_numeric(df[\"Cena bytu\"], errors=\"coerce\")\n",
    "\n",
    "drazsi_byty = df[df[\"Cena bytu\"] > 20000]\n",
    "print(drazsi_byty[\"Dispozice bytu\"].value_counts())\n",
    "\n",
    "if any(drazsi_byty[\"Dispozice bytu\"].isin([\"2+1\", \"2+kk\"])):\n",
    "    print(\"Ano, i dvoupokojové byty jsou inzerovány za cenu nad 20 000 Kč.\")\n",
    "else:\n",
    "    print(\"Ne, dvoupokojové byty nejsou mezi těmi dražšími než 20 000 Kč.\")"
   ]
  },
  {
   "cell_type": "markdown",
   "id": "7292edc5",
   "metadata": {},
   "source": [
    "Zjištěte minimální a maximální inzerce pro každou dispozici bytu. Která dispozice má největší rozptyl mezi minimální a maximální inzerovanou cenou?"
   ]
  },
  {
   "cell_type": "code",
   "execution_count": 238,
   "id": "eaf88d0f",
   "metadata": {},
   "outputs": [
    {
     "name": "stdout",
     "output_type": "stream",
     "text": [
      "3+kk\n"
     ]
    },
    {
     "data": {
      "text/html": [
       "<div>\n",
       "<style scoped>\n",
       "    .dataframe tbody tr th:only-of-type {\n",
       "        vertical-align: middle;\n",
       "    }\n",
       "\n",
       "    .dataframe tbody tr th {\n",
       "        vertical-align: top;\n",
       "    }\n",
       "\n",
       "    .dataframe thead th {\n",
       "        text-align: right;\n",
       "    }\n",
       "</style>\n",
       "<table border=\"1\" class=\"dataframe\">\n",
       "  <thead>\n",
       "    <tr style=\"text-align: right;\">\n",
       "      <th></th>\n",
       "      <th>Dispozice bytu</th>\n",
       "      <th>min</th>\n",
       "      <th>max</th>\n",
       "      <th>Rozptyl</th>\n",
       "    </tr>\n",
       "  </thead>\n",
       "  <tbody>\n",
       "    <tr>\n",
       "      <th>0</th>\n",
       "      <td>3+kk</td>\n",
       "      <td>6000.0</td>\n",
       "      <td>36000.0</td>\n",
       "      <td>30000.0</td>\n",
       "    </tr>\n",
       "    <tr>\n",
       "      <th>1</th>\n",
       "      <td>3+1</td>\n",
       "      <td>10000.0</td>\n",
       "      <td>25000.0</td>\n",
       "      <td>15000.0</td>\n",
       "    </tr>\n",
       "    <tr>\n",
       "      <th>2</th>\n",
       "      <td>2+kk</td>\n",
       "      <td>9000.0</td>\n",
       "      <td>23900.0</td>\n",
       "      <td>14900.0</td>\n",
       "    </tr>\n",
       "    <tr>\n",
       "      <th>3</th>\n",
       "      <td>1+kk</td>\n",
       "      <td>8000.0</td>\n",
       "      <td>19900.0</td>\n",
       "      <td>11900.0</td>\n",
       "    </tr>\n",
       "    <tr>\n",
       "      <th>4</th>\n",
       "      <td>2+1</td>\n",
       "      <td>8000.0</td>\n",
       "      <td>18000.0</td>\n",
       "      <td>10000.0</td>\n",
       "    </tr>\n",
       "    <tr>\n",
       "      <th>5</th>\n",
       "      <td>4+kk</td>\n",
       "      <td>30000.0</td>\n",
       "      <td>39900.0</td>\n",
       "      <td>9900.0</td>\n",
       "    </tr>\n",
       "    <tr>\n",
       "      <th>6</th>\n",
       "      <td>atypický</td>\n",
       "      <td>8500.0</td>\n",
       "      <td>15500.0</td>\n",
       "      <td>7000.0</td>\n",
       "    </tr>\n",
       "    <tr>\n",
       "      <th>7</th>\n",
       "      <td>pokoje</td>\n",
       "      <td>3500.0</td>\n",
       "      <td>10500.0</td>\n",
       "      <td>7000.0</td>\n",
       "    </tr>\n",
       "    <tr>\n",
       "      <th>8</th>\n",
       "      <td>bytu</td>\n",
       "      <td>11450.0</td>\n",
       "      <td>17000.0</td>\n",
       "      <td>5550.0</td>\n",
       "    </tr>\n",
       "    <tr>\n",
       "      <th>9</th>\n",
       "      <td>1+1</td>\n",
       "      <td>8000.0</td>\n",
       "      <td>13500.0</td>\n",
       "      <td>5500.0</td>\n",
       "    </tr>\n",
       "    <tr>\n",
       "      <th>10</th>\n",
       "      <td>4+1</td>\n",
       "      <td>20400.0</td>\n",
       "      <td>25500.0</td>\n",
       "      <td>5100.0</td>\n",
       "    </tr>\n",
       "  </tbody>\n",
       "</table>\n",
       "</div>"
      ],
      "text/plain": [
       "   Dispozice bytu      min      max  Rozptyl\n",
       "0            3+kk   6000.0  36000.0  30000.0\n",
       "1             3+1  10000.0  25000.0  15000.0\n",
       "2            2+kk   9000.0  23900.0  14900.0\n",
       "3            1+kk   8000.0  19900.0  11900.0\n",
       "4             2+1   8000.0  18000.0  10000.0\n",
       "5            4+kk  30000.0  39900.0   9900.0\n",
       "6        atypický   8500.0  15500.0   7000.0\n",
       "7          pokoje   3500.0  10500.0   7000.0\n",
       "8            bytu  11450.0  17000.0   5550.0\n",
       "9             1+1   8000.0  13500.0   5500.0\n",
       "10            4+1  20400.0  25500.0   5100.0"
      ]
     },
     "execution_count": 238,
     "metadata": {},
     "output_type": "execute_result"
    }
   ],
   "source": [
    "import pandas as pd\n",
    "df = pd.read_csv(\"Martina_Marton_zdrojova_data.csv\")\n",
    "df[\"Cena bytu\"] = df[\"Cena bytu\"].str.replace(\"Kč/měsíc\", \"\").str.strip()\n",
    "df[\"Cena bytu\"] = pd.to_numeric(df[\"Cena bytu\"], errors=\"coerce\")\n",
    "\n",
    "rozsahy = df.groupby(\"Dispozice bytu\")[\"Cena bytu\"].agg([\"min\", \"max\"])\n",
    "\n",
    "rozsahy[\"Rozptyl\"] = rozsahy[\"max\"] - rozsahy[\"min\"]\n",
    "nejvetsi_rozptyl = rozsahy[\"Rozptyl\"].idxmax()\n",
    "\n",
    "print(nejvetsi_rozptyl)\n",
    "\n",
    "rozsahy.sort_values(by=\"Rozptyl\", ascending=False).reset_index()\n",
    "\n"
   ]
  }
 ],
 "metadata": {
  "kernelspec": {
   "display_name": "base",
   "language": "python",
   "name": "python3"
  },
  "language_info": {
   "codemirror_mode": {
    "name": "ipython",
    "version": 3
   },
   "file_extension": ".py",
   "mimetype": "text/x-python",
   "name": "python",
   "nbconvert_exporter": "python",
   "pygments_lexer": "ipython3",
   "version": "3.12.7"
  }
 },
 "nbformat": 4,
 "nbformat_minor": 5
}
